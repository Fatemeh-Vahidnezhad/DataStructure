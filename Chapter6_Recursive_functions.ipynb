{
  "nbformat": 4,
  "nbformat_minor": 0,
  "metadata": {
    "colab": {
      "provenance": []
    },
    "kernelspec": {
      "name": "python3",
      "display_name": "Python 3"
    },
    "language_info": {
      "name": "python"
    }
  },
  "cells": [
    {
      "cell_type": "markdown",
      "source": [
        "جست و جوی دودویی برای لیست های مرتب"
      ],
      "metadata": {
        "id": "AtYAN3LZNNPK"
      }
    },
    {
      "cell_type": "markdown",
      "source": [
        "پیدا کردن یک عدد در یک لیست مرتب"
      ],
      "metadata": {
        "id": "LFmbTtPrmEf5"
      }
    },
    {
      "cell_type": "code",
      "source": [
        "lst = [0,1,2,3,4,5,6]\n",
        "def search(lst, target):\n",
        "  low = 0\n",
        "  high = len(lst)-1\n",
        "\n",
        "  while low <= high:\n",
        "    mid = (high + low)//2\n",
        "\n",
        "    if lst[mid] == target:\n",
        "      print(mid, lst[mid])\n",
        "      return True\n",
        "\n",
        "    elif lst[mid] < target:\n",
        "      low = mid+1\n",
        "\n",
        "    else:\n",
        "      high = mid-1\n",
        "  return False\n",
        "\n",
        "search(lst,6)"
      ],
      "metadata": {
        "id": "rzAX-bGgmO76",
        "colab": {
          "base_uri": "https://localhost:8080/"
        },
        "outputId": "e852b565-fabd-48eb-e65d-489b088377c9"
      },
      "execution_count": 22,
      "outputs": [
        {
          "output_type": "stream",
          "name": "stdout",
          "text": [
            "6 6\n"
          ]
        },
        {
          "output_type": "execute_result",
          "data": {
            "text/plain": [
              "True"
            ]
          },
          "metadata": {},
          "execution_count": 22
        }
      ]
    },
    {
      "cell_type": "markdown",
      "source": [
        "پیدا کردن یک عدد در یک لیست مرتب با استفاده از توابع بازگشتی"
      ],
      "metadata": {
        "id": "dEMgwPzXl-ev"
      }
    },
    {
      "cell_type": "code",
      "source": [
        "def search_recursive( lst, target, low, high):\n",
        "  while low <= high:\n",
        "    mid = (low+ high)//2\n",
        "    if lst[mid]== target:\n",
        "      return mid, lst[mid]\n",
        "    elif lst[mid]< target:\n",
        "      return search_recursive( lst,target, mid+1, high)\n",
        "    else:\n",
        "      return search_recursive(lst, target, low, mid-1)\n",
        "\n",
        "lst=[0,1,2,3,4 ,5,6]\n",
        "search_recursive(lst, 3, 0,7)"
      ],
      "metadata": {
        "colab": {
          "base_uri": "https://localhost:8080/"
        },
        "id": "TReDs3i_5Xj0",
        "outputId": "b194947d-6284-4532-d4ac-075d4ebe9552"
      },
      "execution_count": 25,
      "outputs": [
        {
          "output_type": "execute_result",
          "data": {
            "text/plain": [
              "(3, 3)"
            ]
          },
          "metadata": {},
          "execution_count": 25
        }
      ]
    },
    {
      "cell_type": "markdown",
      "source": [
        "تابع فیبوناچی"
      ],
      "metadata": {
        "id": "2kPUK8AemO6K"
      }
    },
    {
      "cell_type": "code",
      "source": [
        "def fibonachi(n):\n",
        "  if n==1:\n",
        "    return n\n",
        "  elif n == 0:\n",
        "    return 0\n",
        "  else :\n",
        "    return fibonachi(n-1) + fibonachi(n-2)\n",
        "fibonachi(4)"
      ],
      "metadata": {
        "colab": {
          "base_uri": "https://localhost:8080/"
        },
        "id": "rl3EzQP4cT7s",
        "outputId": "b1a37950-3b48-410c-c9d0-6344deae8f01"
      },
      "execution_count": 31,
      "outputs": [
        {
          "output_type": "execute_result",
          "data": {
            "text/plain": [
              "267914296"
            ]
          },
          "metadata": {},
          "execution_count": 31
        }
      ]
    },
    {
      "cell_type": "markdown",
      "source": [
        "محاسبه مجموع یک لیست با استفاده از تابع بازگشتی"
      ],
      "metadata": {
        "id": "KQ6GHsw6l4Na"
      }
    },
    {
      "cell_type": "code",
      "source": [
        "lst = [0,15,2,3,4,5,40]\n",
        "\n",
        "def sumation_lst(lst,sumation = 0):\n",
        "  n = len(lst)\n",
        "  while lst:\n",
        "    sumation += lst.pop()\n",
        "    sumation_lst(lst[:n-1])\n",
        "  return sumation\n",
        "sumation_lst(lst)"
      ],
      "metadata": {
        "colab": {
          "base_uri": "https://localhost:8080/"
        },
        "id": "8Br1Hsp-hAw1",
        "outputId": "c3980af5-e2e2-4d79-a462-975fd20efdb8"
      },
      "execution_count": 58,
      "outputs": [
        {
          "output_type": "execute_result",
          "data": {
            "text/plain": [
              "69"
            ]
          },
          "metadata": {},
          "execution_count": 58
        }
      ]
    },
    {
      "cell_type": "markdown",
      "source": [
        "روش دوم بدون حلقه"
      ],
      "metadata": {
        "id": "TI3KdVjxnUjs"
      }
    },
    {
      "cell_type": "code",
      "source": [
        "def sumation_lst(lst):\n",
        "  n = len(lst)\n",
        "  if n == 0:\n",
        "    return 0\n",
        "  else :\n",
        "    return sumation_lst(lst[:n-2]) + lst[n-1]"
      ],
      "metadata": {
        "id": "H7KUHp9XmXh-"
      },
      "execution_count": 62,
      "outputs": []
    },
    {
      "cell_type": "code",
      "source": [
        "lst = [0,5,2,3,4,5,4]\n",
        "sumation_lst(lst)"
      ],
      "metadata": {
        "colab": {
          "base_uri": "https://localhost:8080/"
        },
        "id": "VUD3SVpfnR1F",
        "outputId": "95a2152c-5e4a-4035-cb0c-e8d57a28ae6b"
      },
      "execution_count": 64,
      "outputs": [
        {
          "output_type": "execute_result",
          "data": {
            "text/plain": [
              "10"
            ]
          },
          "metadata": {},
          "execution_count": 64
        }
      ]
    },
    {
      "cell_type": "markdown",
      "source": [
        "پالینروم بودن یک رشته مثلاradar"
      ],
      "metadata": {
        "id": "-X-iIcforgvV"
      }
    },
    {
      "cell_type": "code",
      "source": [
        "s = 'maryam'\n",
        "def palindrom(s):\n",
        "  n = len(s)\n",
        "  for i in range(n):\n",
        "    print(i)\n",
        "    if s[i] == s[n-i-1]:\n",
        "      return True\n",
        "    else:\n",
        "      return False\n",
        "\n",
        "palindrom(s)"
      ],
      "metadata": {
        "colab": {
          "base_uri": "https://localhost:8080/"
        },
        "id": "ZUr2G4tnrgkP",
        "outputId": "54dede6f-bddb-48b9-e309-79dc11f55b04"
      },
      "execution_count": 73,
      "outputs": [
        {
          "output_type": "stream",
          "name": "stdout",
          "text": [
            "0\n"
          ]
        },
        {
          "output_type": "execute_result",
          "data": {
            "text/plain": [
              "True"
            ]
          },
          "metadata": {},
          "execution_count": 73
        }
      ]
    },
    {
      "cell_type": "markdown",
      "source": [
        "پالینروم با تابع بازگشتی"
      ],
      "metadata": {
        "id": "9oDcYR1719-6"
      }
    },
    {
      "cell_type": "code",
      "source": [
        "s = 'sabbsas'\n",
        "def palindrom(s):\n",
        "  if len(s) <= 1:\n",
        "    return True\n",
        "  else:\n",
        "    return s[0] == s[-1] and palindrom(s[1:-1])\n",
        "\n",
        "\n",
        "palindrom(s)"
      ],
      "metadata": {
        "colab": {
          "base_uri": "https://localhost:8080/"
        },
        "id": "o8tp7Up519YL",
        "outputId": "85c00987-63f2-4045-fae3-0e513b0032bb"
      },
      "execution_count": 87,
      "outputs": [
        {
          "output_type": "execute_result",
          "data": {
            "text/plain": [
              "False"
            ]
          },
          "metadata": {},
          "execution_count": 87
        }
      ]
    },
    {
      "cell_type": "code",
      "source": [
        "s = 'd'\n",
        "s[1:-1]"
      ],
      "metadata": {
        "colab": {
          "base_uri": "https://localhost:8080/",
          "height": 36
        },
        "id": "9gdd2AIf7xFd",
        "outputId": "f5462c01-8f20-4329-dbc4-2c98c9ee8622"
      },
      "execution_count": 82,
      "outputs": [
        {
          "output_type": "execute_result",
          "data": {
            "text/plain": [
              "''"
            ],
            "application/vnd.google.colaboratory.intrinsic+json": {
              "type": "string"
            }
          },
          "metadata": {},
          "execution_count": 82
        }
      ]
    },
    {
      "cell_type": "markdown",
      "source": [
        "برج هانوی با استفاده از رابطه بازگشتی"
      ],
      "metadata": {
        "id": "yjFo-y3l_7Ss"
      }
    },
    {
      "cell_type": "code",
      "source": [
        "def Hanoi(n, s, a, t):\n",
        "  if n == 1:\n",
        "    print('move 1 from', s ,'to', t)\n",
        "  else:\n",
        "    Hanoi(n-1, s, t, a)\n",
        "    print ('move',n,'from ',s ,'to', t)\n",
        "    Hanoi(n-1, a, s , t)\n",
        "\n",
        "Hanoi(4,'a', 'b', 'c')"
      ],
      "metadata": {
        "colab": {
          "base_uri": "https://localhost:8080/"
        },
        "id": "HOZjxMrY__6G",
        "outputId": "cfe2bfa8-9450-4ff1-c55c-e567e0c4d0eb"
      },
      "execution_count": 8,
      "outputs": [
        {
          "output_type": "stream",
          "name": "stdout",
          "text": [
            "move 1 from a to b\n",
            "move 2 from  a to c\n",
            "move 1 from b to c\n",
            "move 3 from  a to b\n",
            "move 1 from c to a\n",
            "move 2 from  c to b\n",
            "move 1 from a to b\n",
            "move 4 from  a to c\n",
            "move 1 from b to c\n",
            "move 2 from  b to a\n",
            "move 1 from c to a\n",
            "move 3 from  b to c\n",
            "move 1 from a to b\n",
            "move 2 from  a to c\n",
            "move 1 from b to c\n"
          ]
        }
      ]
    },
    {
      "cell_type": "markdown",
      "source": [
        "آکرمن"
      ],
      "metadata": {
        "id": "dYxlfCrLwvab"
      }
    },
    {
      "cell_type": "code",
      "source": [
        "def Akerman(a, b):\n",
        "  if a == 0 and b != 0:\n",
        "    print('A(0,{})'.format(b))\n",
        "    return b +1\n",
        "  elif a != 0 and b ==0:\n",
        "    print('A({}, 1)'.format(a-1))\n",
        "    return Akerman(a-1, 1)\n",
        "  else:\n",
        "    print('A({}, {})'.format(a-1, b-1))\n",
        "    return Akerman(a-1, Akerman(a, b-1))\n",
        "Akerman(2,1)"
      ],
      "metadata": {
        "colab": {
          "base_uri": "https://localhost:8080/"
        },
        "id": "of5D4z-Rwu_U",
        "outputId": "8d4b29fc-7a56-4121-c5f3-cceda7cf82fc"
      },
      "execution_count": 25,
      "outputs": [
        {
          "output_type": "stream",
          "name": "stdout",
          "text": [
            "A(1, 0)\n",
            "A(1, 1)\n",
            "A(0, 0)\n",
            "A(0, 1)\n",
            "A(0,1)\n",
            "A(0,2)\n",
            "A(0, 2)\n",
            "A(0, 1)\n",
            "A(0, 0)\n",
            "A(0, 1)\n",
            "A(0,1)\n",
            "A(0,2)\n",
            "A(0,3)\n",
            "A(0,4)\n"
          ]
        },
        {
          "output_type": "execute_result",
          "data": {
            "text/plain": [
              "5"
            ]
          },
          "metadata": {},
          "execution_count": 25
        }
      ]
    },
    {
      "cell_type": "markdown",
      "source": [
        "مثلث پاسکال pascal"
      ],
      "metadata": {
        "id": "ZWg3AYDEAKEN"
      }
    },
    {
      "cell_type": "code",
      "source": [
        "[1]\n",
        "[1,1]\n",
        "[1,2,1]\n",
        "[1,3,3,1]\n",
        "[1,4,6,4,1]\n",
        "[1,5,10,10,5,1]\n",
        "..."
      ],
      "metadata": {
        "id": "rJztdTk4_z4k"
      },
      "execution_count": null,
      "outputs": []
    },
    {
      "cell_type": "code",
      "source": [
        "def pascal(n):\n",
        "  if n == 1:\n",
        "    return [1]\n",
        "  else:\n",
        "    x = [1]\n",
        "    p = pascal(n-1)\n",
        "    for i in range(len(p)-1):\n",
        "      x.append(p[i] + p[i+1])\n",
        "    x +=[1]\n",
        "  return x"
      ],
      "metadata": {
        "id": "jzgbK3JPAhWM"
      },
      "execution_count": 1,
      "outputs": []
    },
    {
      "cell_type": "code",
      "source": [
        "pascal(3)"
      ],
      "metadata": {
        "colab": {
          "base_uri": "https://localhost:8080/"
        },
        "id": "g0KVM5sGH9M4",
        "outputId": "33a42b69-6871-429a-c5c6-219bdd8fafcd"
      },
      "execution_count": 3,
      "outputs": [
        {
          "output_type": "execute_result",
          "data": {
            "text/plain": [
              "[1, 2, 1]"
            ]
          },
          "metadata": {},
          "execution_count": 3
        }
      ]
    },
    {
      "cell_type": "code",
      "source": [
        "pascal(4)"
      ],
      "metadata": {
        "colab": {
          "base_uri": "https://localhost:8080/"
        },
        "id": "W8bxKrWRICWp",
        "outputId": "92faed64-2da0-4b2e-ebe4-5e37b377ad96"
      },
      "execution_count": 4,
      "outputs": [
        {
          "output_type": "execute_result",
          "data": {
            "text/plain": [
              "[1, 3, 3, 1]"
            ]
          },
          "metadata": {},
          "execution_count": 4
        }
      ]
    }
  ]
}