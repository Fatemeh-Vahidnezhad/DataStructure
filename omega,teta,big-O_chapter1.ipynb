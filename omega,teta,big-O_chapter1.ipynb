{
  "nbformat": 4,
  "nbformat_minor": 0,
  "metadata": {
    "colab": {
      "provenance": []
    },
    "kernelspec": {
      "name": "python3",
      "display_name": "Python 3"
    },
    "language_info": {
      "name": "python"
    }
  },
  "cells": [
    {
      "cell_type": "markdown",
      "source": [
        "داشتن حروف تکراری در یک استرینگ"
      ],
      "metadata": {
        "id": "NgJNnQCJPg-s"
      }
    },
    {
      "cell_type": "code",
      "execution_count": null,
      "metadata": {
        "id": "UNTLVcO4Jvxy",
        "colab": {
          "base_uri": "https://localhost:8080/"
        },
        "outputId": "a30c1a12-a5f7-4d9c-dccc-9d4a93e7578d"
      },
      "outputs": [
        {
          "output_type": "execute_result",
          "data": {
            "text/plain": [
              "True"
            ]
          },
          "metadata": {},
          "execution_count": 5
        }
      ],
      "source": [
        "# O(n^2)\n",
        "string = 'mina'\n",
        "def same_words(string):\n",
        "  n = len(string)\n",
        "  for i in range(1,n):\n",
        "    for j in range(i+1, n):\n",
        "      if string[i] == string[j]:\n",
        "        return False\n",
        "  return True\n",
        "\n",
        "\n",
        "same_words('mqwina')"
      ]
    },
    {
      "cell_type": "markdown",
      "source": [
        "maximum number in a list\n"
      ],
      "metadata": {
        "id": "hG2u6UZ6TfAq"
      }
    },
    {
      "cell_type": "code",
      "source": [
        "# O(n)\n",
        "lst = [1,23,45,11,10,34,5,5,42,87,0]\n",
        "# print(len(lst))\n",
        "def max_num(lst):\n",
        "  n = len(lst)\n",
        "  max = lst[0]\n",
        "  for i in range(n):\n",
        "    if lst[i] > max:\n",
        "      max = lst[i]\n",
        "  return max\n",
        "max_num(lst)"
      ],
      "metadata": {
        "colab": {
          "base_uri": "https://localhost:8080/"
        },
        "id": "G11WM5SuP-Xo",
        "outputId": "bb0844ad-7404-4ca8-a8dc-4fe49237da65"
      },
      "execution_count": null,
      "outputs": [
        {
          "output_type": "execute_result",
          "data": {
            "text/plain": [
              "87"
            ]
          },
          "metadata": {},
          "execution_count": 9
        }
      ]
    },
    {
      "cell_type": "markdown",
      "source": [
        "minimum number in a list\n"
      ],
      "metadata": {
        "id": "_dYnks8qTi6T"
      }
    },
    {
      "cell_type": "code",
      "source": [
        "# O(n)\n",
        "lst = [1,23,45,11,10,34,5,5,42,87,0,-13]\n",
        "# print(len(lst))\n",
        "def min_num(lst):\n",
        "  n = len(lst)\n",
        "  min = lst[0]\n",
        "  for i in range(n):\n",
        "    if lst[i] < min:\n",
        "      min = lst[i]\n",
        "  return min\n",
        "min_num(lst)"
      ],
      "metadata": {
        "colab": {
          "base_uri": "https://localhost:8080/"
        },
        "id": "cJK1gX8KTmWu",
        "outputId": "c0090a53-05d8-4d11-cc4a-b40d2c1d1a3e"
      },
      "execution_count": null,
      "outputs": [
        {
          "output_type": "execute_result",
          "data": {
            "text/plain": [
              "-13"
            ]
          },
          "metadata": {},
          "execution_count": 12
        }
      ]
    },
    {
      "cell_type": "markdown",
      "source": [
        "میانگین تجمعی در یک لیست:\n",
        "مثلا عدد سوم باید با اعداد قبل از خودش میانگین گرفته شود"
      ],
      "metadata": {
        "id": "UHfs07LpaN0P"
      }
    },
    {
      "cell_type": "code",
      "source": [
        "# O(n)\n",
        "import numpy as np\n",
        "lst = [17, 18, 10, 0]\n",
        "lst1 = []\n",
        "def avg_lst1(lst):\n",
        "  for i in range(1,len(lst)+1):\n",
        "    x = np.mean(lst[0:i])\n",
        "    lst1.append(x)\n",
        "  return lst1\n",
        "avg_lst1(lst)"
      ],
      "metadata": {
        "colab": {
          "base_uri": "https://localhost:8080/"
        },
        "id": "543YoL-TUG3P",
        "outputId": "f9f79f06-12f5-4b70-d933-6f117bcfc29d"
      },
      "execution_count": 11,
      "outputs": [
        {
          "output_type": "execute_result",
          "data": {
            "text/plain": [
              "[17.0, 17.5, 15.0, 11.25]"
            ]
          },
          "metadata": {},
          "execution_count": 11
        }
      ]
    },
    {
      "cell_type": "code",
      "source": [
        "import time\n",
        "time_duration = []\n",
        "len_lst = [4,40,400,7000]\n",
        "for i in len_lst:\n",
        "  lst = [2]*i  # [2,2,2,2], [2,2,2, ... ,2],  [2,2,2,2,2,2,2, ... ,2]\n",
        "  s = time.process_time()\n",
        "  avg_lst1(lst)\n",
        "  l = time.process_time()\n",
        "  time_duration.append(l-s)\n",
        "time_duration"
      ],
      "metadata": {
        "colab": {
          "base_uri": "https://localhost:8080/"
        },
        "id": "Ej0qr_QvD8y6",
        "outputId": "29271cec-dedd-46fe-c284-e4b083a22c88"
      },
      "execution_count": 12,
      "outputs": [
        {
          "output_type": "execute_result",
          "data": {
            "text/plain": [
              "[0.0002554589999999024,\n",
              " 0.0007523790000014685,\n",
              " 0.014788005999999854,\n",
              " 2.1500947079999992]"
            ]
          },
          "metadata": {},
          "execution_count": 12
        }
      ]
    },
    {
      "cell_type": "code",
      "source": [
        "import pandas as pd\n",
        "df1 = pd.DataFrame(zip(len_lst, time_duration), columns = ['len_list', 'time'])\n",
        "df1"
      ],
      "metadata": {
        "colab": {
          "base_uri": "https://localhost:8080/",
          "height": 175
        },
        "id": "llReal1kEFpB",
        "outputId": "1f1a5fa0-077d-4b2b-be84-651bd28a569f"
      },
      "execution_count": 13,
      "outputs": [
        {
          "output_type": "execute_result",
          "data": {
            "text/plain": [
              "   len_list      time\n",
              "0         4  0.000255\n",
              "1        40  0.000752\n",
              "2       400  0.014788\n",
              "3      7000  2.150095"
            ],
            "text/html": [
              "\n",
              "  <div id=\"df-7e6fb8fe-4041-4b8e-a5de-d4dff5b0787a\" class=\"colab-df-container\">\n",
              "    <div>\n",
              "<style scoped>\n",
              "    .dataframe tbody tr th:only-of-type {\n",
              "        vertical-align: middle;\n",
              "    }\n",
              "\n",
              "    .dataframe tbody tr th {\n",
              "        vertical-align: top;\n",
              "    }\n",
              "\n",
              "    .dataframe thead th {\n",
              "        text-align: right;\n",
              "    }\n",
              "</style>\n",
              "<table border=\"1\" class=\"dataframe\">\n",
              "  <thead>\n",
              "    <tr style=\"text-align: right;\">\n",
              "      <th></th>\n",
              "      <th>len_list</th>\n",
              "      <th>time</th>\n",
              "    </tr>\n",
              "  </thead>\n",
              "  <tbody>\n",
              "    <tr>\n",
              "      <th>0</th>\n",
              "      <td>4</td>\n",
              "      <td>0.000255</td>\n",
              "    </tr>\n",
              "    <tr>\n",
              "      <th>1</th>\n",
              "      <td>40</td>\n",
              "      <td>0.000752</td>\n",
              "    </tr>\n",
              "    <tr>\n",
              "      <th>2</th>\n",
              "      <td>400</td>\n",
              "      <td>0.014788</td>\n",
              "    </tr>\n",
              "    <tr>\n",
              "      <th>3</th>\n",
              "      <td>7000</td>\n",
              "      <td>2.150095</td>\n",
              "    </tr>\n",
              "  </tbody>\n",
              "</table>\n",
              "</div>\n",
              "    <div class=\"colab-df-buttons\">\n",
              "\n",
              "  <div class=\"colab-df-container\">\n",
              "    <button class=\"colab-df-convert\" onclick=\"convertToInteractive('df-7e6fb8fe-4041-4b8e-a5de-d4dff5b0787a')\"\n",
              "            title=\"Convert this dataframe to an interactive table.\"\n",
              "            style=\"display:none;\">\n",
              "\n",
              "  <svg xmlns=\"http://www.w3.org/2000/svg\" height=\"24px\" viewBox=\"0 -960 960 960\">\n",
              "    <path d=\"M120-120v-720h720v720H120Zm60-500h600v-160H180v160Zm220 220h160v-160H400v160Zm0 220h160v-160H400v160ZM180-400h160v-160H180v160Zm440 0h160v-160H620v160ZM180-180h160v-160H180v160Zm440 0h160v-160H620v160Z\"/>\n",
              "  </svg>\n",
              "    </button>\n",
              "\n",
              "  <style>\n",
              "    .colab-df-container {\n",
              "      display:flex;\n",
              "      gap: 12px;\n",
              "    }\n",
              "\n",
              "    .colab-df-convert {\n",
              "      background-color: #E8F0FE;\n",
              "      border: none;\n",
              "      border-radius: 50%;\n",
              "      cursor: pointer;\n",
              "      display: none;\n",
              "      fill: #1967D2;\n",
              "      height: 32px;\n",
              "      padding: 0 0 0 0;\n",
              "      width: 32px;\n",
              "    }\n",
              "\n",
              "    .colab-df-convert:hover {\n",
              "      background-color: #E2EBFA;\n",
              "      box-shadow: 0px 1px 2px rgba(60, 64, 67, 0.3), 0px 1px 3px 1px rgba(60, 64, 67, 0.15);\n",
              "      fill: #174EA6;\n",
              "    }\n",
              "\n",
              "    .colab-df-buttons div {\n",
              "      margin-bottom: 4px;\n",
              "    }\n",
              "\n",
              "    [theme=dark] .colab-df-convert {\n",
              "      background-color: #3B4455;\n",
              "      fill: #D2E3FC;\n",
              "    }\n",
              "\n",
              "    [theme=dark] .colab-df-convert:hover {\n",
              "      background-color: #434B5C;\n",
              "      box-shadow: 0px 1px 3px 1px rgba(0, 0, 0, 0.15);\n",
              "      filter: drop-shadow(0px 1px 2px rgba(0, 0, 0, 0.3));\n",
              "      fill: #FFFFFF;\n",
              "    }\n",
              "  </style>\n",
              "\n",
              "    <script>\n",
              "      const buttonEl =\n",
              "        document.querySelector('#df-7e6fb8fe-4041-4b8e-a5de-d4dff5b0787a button.colab-df-convert');\n",
              "      buttonEl.style.display =\n",
              "        google.colab.kernel.accessAllowed ? 'block' : 'none';\n",
              "\n",
              "      async function convertToInteractive(key) {\n",
              "        const element = document.querySelector('#df-7e6fb8fe-4041-4b8e-a5de-d4dff5b0787a');\n",
              "        const dataTable =\n",
              "          await google.colab.kernel.invokeFunction('convertToInteractive',\n",
              "                                                    [key], {});\n",
              "        if (!dataTable) return;\n",
              "\n",
              "        const docLinkHtml = 'Like what you see? Visit the ' +\n",
              "          '<a target=\"_blank\" href=https://colab.research.google.com/notebooks/data_table.ipynb>data table notebook</a>'\n",
              "          + ' to learn more about interactive tables.';\n",
              "        element.innerHTML = '';\n",
              "        dataTable['output_type'] = 'display_data';\n",
              "        await google.colab.output.renderOutput(dataTable, element);\n",
              "        const docLink = document.createElement('div');\n",
              "        docLink.innerHTML = docLinkHtml;\n",
              "        element.appendChild(docLink);\n",
              "      }\n",
              "    </script>\n",
              "  </div>\n",
              "\n",
              "\n",
              "<div id=\"df-79601d42-5671-408b-9125-004869cdcc6e\">\n",
              "  <button class=\"colab-df-quickchart\" onclick=\"quickchart('df-79601d42-5671-408b-9125-004869cdcc6e')\"\n",
              "            title=\"Suggest charts.\"\n",
              "            style=\"display:none;\">\n",
              "\n",
              "<svg xmlns=\"http://www.w3.org/2000/svg\" height=\"24px\"viewBox=\"0 0 24 24\"\n",
              "     width=\"24px\">\n",
              "    <g>\n",
              "        <path d=\"M19 3H5c-1.1 0-2 .9-2 2v14c0 1.1.9 2 2 2h14c1.1 0 2-.9 2-2V5c0-1.1-.9-2-2-2zM9 17H7v-7h2v7zm4 0h-2V7h2v10zm4 0h-2v-4h2v4z\"/>\n",
              "    </g>\n",
              "</svg>\n",
              "  </button>\n",
              "\n",
              "<style>\n",
              "  .colab-df-quickchart {\n",
              "      --bg-color: #E8F0FE;\n",
              "      --fill-color: #1967D2;\n",
              "      --hover-bg-color: #E2EBFA;\n",
              "      --hover-fill-color: #174EA6;\n",
              "      --disabled-fill-color: #AAA;\n",
              "      --disabled-bg-color: #DDD;\n",
              "  }\n",
              "\n",
              "  [theme=dark] .colab-df-quickchart {\n",
              "      --bg-color: #3B4455;\n",
              "      --fill-color: #D2E3FC;\n",
              "      --hover-bg-color: #434B5C;\n",
              "      --hover-fill-color: #FFFFFF;\n",
              "      --disabled-bg-color: #3B4455;\n",
              "      --disabled-fill-color: #666;\n",
              "  }\n",
              "\n",
              "  .colab-df-quickchart {\n",
              "    background-color: var(--bg-color);\n",
              "    border: none;\n",
              "    border-radius: 50%;\n",
              "    cursor: pointer;\n",
              "    display: none;\n",
              "    fill: var(--fill-color);\n",
              "    height: 32px;\n",
              "    padding: 0;\n",
              "    width: 32px;\n",
              "  }\n",
              "\n",
              "  .colab-df-quickchart:hover {\n",
              "    background-color: var(--hover-bg-color);\n",
              "    box-shadow: 0 1px 2px rgba(60, 64, 67, 0.3), 0 1px 3px 1px rgba(60, 64, 67, 0.15);\n",
              "    fill: var(--button-hover-fill-color);\n",
              "  }\n",
              "\n",
              "  .colab-df-quickchart-complete:disabled,\n",
              "  .colab-df-quickchart-complete:disabled:hover {\n",
              "    background-color: var(--disabled-bg-color);\n",
              "    fill: var(--disabled-fill-color);\n",
              "    box-shadow: none;\n",
              "  }\n",
              "\n",
              "  .colab-df-spinner {\n",
              "    border: 2px solid var(--fill-color);\n",
              "    border-color: transparent;\n",
              "    border-bottom-color: var(--fill-color);\n",
              "    animation:\n",
              "      spin 1s steps(1) infinite;\n",
              "  }\n",
              "\n",
              "  @keyframes spin {\n",
              "    0% {\n",
              "      border-color: transparent;\n",
              "      border-bottom-color: var(--fill-color);\n",
              "      border-left-color: var(--fill-color);\n",
              "    }\n",
              "    20% {\n",
              "      border-color: transparent;\n",
              "      border-left-color: var(--fill-color);\n",
              "      border-top-color: var(--fill-color);\n",
              "    }\n",
              "    30% {\n",
              "      border-color: transparent;\n",
              "      border-left-color: var(--fill-color);\n",
              "      border-top-color: var(--fill-color);\n",
              "      border-right-color: var(--fill-color);\n",
              "    }\n",
              "    40% {\n",
              "      border-color: transparent;\n",
              "      border-right-color: var(--fill-color);\n",
              "      border-top-color: var(--fill-color);\n",
              "    }\n",
              "    60% {\n",
              "      border-color: transparent;\n",
              "      border-right-color: var(--fill-color);\n",
              "    }\n",
              "    80% {\n",
              "      border-color: transparent;\n",
              "      border-right-color: var(--fill-color);\n",
              "      border-bottom-color: var(--fill-color);\n",
              "    }\n",
              "    90% {\n",
              "      border-color: transparent;\n",
              "      border-bottom-color: var(--fill-color);\n",
              "    }\n",
              "  }\n",
              "</style>\n",
              "\n",
              "  <script>\n",
              "    async function quickchart(key) {\n",
              "      const quickchartButtonEl =\n",
              "        document.querySelector('#' + key + ' button');\n",
              "      quickchartButtonEl.disabled = true;  // To prevent multiple clicks.\n",
              "      quickchartButtonEl.classList.add('colab-df-spinner');\n",
              "      try {\n",
              "        const charts = await google.colab.kernel.invokeFunction(\n",
              "            'suggestCharts', [key], {});\n",
              "      } catch (error) {\n",
              "        console.error('Error during call to suggestCharts:', error);\n",
              "      }\n",
              "      quickchartButtonEl.classList.remove('colab-df-spinner');\n",
              "      quickchartButtonEl.classList.add('colab-df-quickchart-complete');\n",
              "    }\n",
              "    (() => {\n",
              "      let quickchartButtonEl =\n",
              "        document.querySelector('#df-79601d42-5671-408b-9125-004869cdcc6e button');\n",
              "      quickchartButtonEl.style.display =\n",
              "        google.colab.kernel.accessAllowed ? 'block' : 'none';\n",
              "    })();\n",
              "  </script>\n",
              "</div>\n",
              "    </div>\n",
              "  </div>\n"
            ]
          },
          "metadata": {},
          "execution_count": 13
        }
      ]
    },
    {
      "cell_type": "code",
      "source": [
        "import seaborn as sns\n",
        "sns.lmplot(x = 'len_list', y ='time', data = df1, ci = None );"
      ],
      "metadata": {
        "colab": {
          "base_uri": "https://localhost:8080/",
          "height": 507
        },
        "id": "jOiaOxi3EGC4",
        "outputId": "754509f2-9164-4ea1-b6aa-497a05df3ac9"
      },
      "execution_count": 14,
      "outputs": [
        {
          "output_type": "display_data",
          "data": {
            "text/plain": [
              "<Figure size 500x500 with 1 Axes>"
            ],
            "image/png": "[encoded data removed]"
          },
          "metadata": {}
        }
      ]
    },
    {
      "cell_type": "markdown",
      "source": [
        "روش دوم"
      ],
      "metadata": {
        "id": "xa29rgJ7a27N"
      }
    },
    {
      "cell_type": "code",
      "source": [
        "# O(n**2)\n",
        "lst = [17, 18, 10]\n",
        "lst1 = [lst[0]]\n",
        "def avg_lst(lst):\n",
        "  total = 0\n",
        "  for i in range(1,len(lst)):\n",
        "    # print('i = ', i)\n",
        "    total = 0\n",
        "    for j in range(i+1):\n",
        "      # print(j, lst[j])\n",
        "      total += lst[j]\n",
        "      # print('total',total)\n",
        "    lst1.append(total / (j+1))\n",
        "  return lst1\n",
        "  # print(total)\n",
        "\n",
        "\n",
        "avg_lst(lst)"
      ],
      "metadata": {
        "colab": {
          "base_uri": "https://localhost:8080/"
        },
        "id": "7RhXF2ZPa2H6",
        "outputId": "8efc4ce2-d10a-4bb3-a5c5-f7af5e5a2a3e"
      },
      "execution_count": 4,
      "outputs": [
        {
          "output_type": "execute_result",
          "data": {
            "text/plain": [
              "[17, 17.5, 15.0]"
            ]
          },
          "metadata": {},
          "execution_count": 4
        }
      ]
    },
    {
      "cell_type": "code",
      "source": [
        "import time\n",
        "time_duration = []\n",
        "len_lst = [4,40,400,7000]\n",
        "for i in len_lst:\n",
        "  lst = [2]*i  # [2,2,2,2], [2,2,2, ... ,2],  [2,2,2,2,2,2,2, ... ,2]\n",
        "  s = time.process_time()\n",
        "  avg_lst(lst)\n",
        "  l = time.process_time()\n",
        "  time_duration.append(l-s)\n",
        "time_duration"
      ],
      "metadata": {
        "colab": {
          "base_uri": "https://localhost:8080/"
        },
        "id": "Db-ExAg-GDjN",
        "outputId": "7c6f9e1e-0dce-4909-f914-d0d7ad7bf94c"
      },
      "execution_count": 5,
      "outputs": [
        {
          "output_type": "execute_result",
          "data": {
            "text/plain": [
              "[1.3535999999980675e-05,\n",
              " 0.00010790899999957304,\n",
              " 0.009757004999999985,\n",
              " 2.028549743]"
            ]
          },
          "metadata": {},
          "execution_count": 5
        }
      ]
    },
    {
      "cell_type": "code",
      "source": [
        "import pandas as pd\n",
        "df = pd.DataFrame(zip(len_lst, time_duration), columns = ['len_list', 'time'])\n",
        "df"
      ],
      "metadata": {
        "colab": {
          "base_uri": "https://localhost:8080/",
          "height": 175
        },
        "id": "i6cZjWX0IRFD",
        "outputId": "0648797e-b201-4716-fda0-62ecc96fb57d"
      },
      "execution_count": 6,
      "outputs": [
        {
          "output_type": "execute_result",
          "data": {
            "text/plain": [
              "   len_list      time\n",
              "0         4  0.000014\n",
              "1        40  0.000108\n",
              "2       400  0.009757\n",
              "3      7000  2.028550"
            ],
            "text/html": [
              "\n",
              "  <div id=\"df-59463aaa-2137-44e1-8d94-efa01a7ee0b7\" class=\"colab-df-container\">\n",
              "    <div>\n",
              "<style scoped>\n",
              "    .dataframe tbody tr th:only-of-type {\n",
              "        vertical-align: middle;\n",
              "    }\n",
              "\n",
              "    .dataframe tbody tr th {\n",
              "        vertical-align: top;\n",
              "    }\n",
              "\n",
              "    .dataframe thead th {\n",
              "        text-align: right;\n",
              "    }\n",
              "</style>\n",
              "<table border=\"1\" class=\"dataframe\">\n",
              "  <thead>\n",
              "    <tr style=\"text-align: right;\">\n",
              "      <th></th>\n",
              "      <th>len_list</th>\n",
              "      <th>time</th>\n",
              "    </tr>\n",
              "  </thead>\n",
              "  <tbody>\n",
              "    <tr>\n",
              "      <th>0</th>\n",
              "      <td>4</td>\n",
              "      <td>0.000014</td>\n",
              "    </tr>\n",
              "    <tr>\n",
              "      <th>1</th>\n",
              "      <td>40</td>\n",
              "      <td>0.000108</td>\n",
              "    </tr>\n",
              "    <tr>\n",
              "      <th>2</th>\n",
              "      <td>400</td>\n",
              "      <td>0.009757</td>\n",
              "    </tr>\n",
              "    <tr>\n",
              "      <th>3</th>\n",
              "      <td>7000</td>\n",
              "      <td>2.028550</td>\n",
              "    </tr>\n",
              "  </tbody>\n",
              "</table>\n",
              "</div>\n",
              "    <div class=\"colab-df-buttons\">\n",
              "\n",
              "  <div class=\"colab-df-container\">\n",
              "    <button class=\"colab-df-convert\" onclick=\"convertToInteractive('df-59463aaa-2137-44e1-8d94-efa01a7ee0b7')\"\n",
              "            title=\"Convert this dataframe to an interactive table.\"\n",
              "            style=\"display:none;\">\n",
              "\n",
              "  <svg xmlns=\"http://www.w3.org/2000/svg\" height=\"24px\" viewBox=\"0 -960 960 960\">\n",
              "    <path d=\"M120-120v-720h720v720H120Zm60-500h600v-160H180v160Zm220 220h160v-160H400v160Zm0 220h160v-160H400v160ZM180-400h160v-160H180v160Zm440 0h160v-160H620v160ZM180-180h160v-160H180v160Zm440 0h160v-160H620v160Z\"/>\n",
              "  </svg>\n",
              "    </button>\n",
              "\n",
              "  <style>\n",
              "    .colab-df-container {\n",
              "      display:flex;\n",
              "      gap: 12px;\n",
              "    }\n",
              "\n",
              "    .colab-df-convert {\n",
              "      background-color: #E8F0FE;\n",
              "      border: none;\n",
              "      border-radius: 50%;\n",
              "      cursor: pointer;\n",
              "      display: none;\n",
              "      fill: #1967D2;\n",
              "      height: 32px;\n",
              "      padding: 0 0 0 0;\n",
              "      width: 32px;\n",
              "    }\n",
              "\n",
              "    .colab-df-convert:hover {\n",
              "      background-color: #E2EBFA;\n",
              "      box-shadow: 0px 1px 2px rgba(60, 64, 67, 0.3), 0px 1px 3px 1px rgba(60, 64, 67, 0.15);\n",
              "      fill: #174EA6;\n",
              "    }\n",
              "\n",
              "    .colab-df-buttons div {\n",
              "      margin-bottom: 4px;\n",
              "    }\n",
              "\n",
              "    [theme=dark] .colab-df-convert {\n",
              "      background-color: #3B4455;\n",
              "      fill: #D2E3FC;\n",
              "    }\n",
              "\n",
              "    [theme=dark] .colab-df-convert:hover {\n",
              "      background-color: #434B5C;\n",
              "      box-shadow: 0px 1px 3px 1px rgba(0, 0, 0, 0.15);\n",
              "      filter: drop-shadow(0px 1px 2px rgba(0, 0, 0, 0.3));\n",
              "      fill: #FFFFFF;\n",
              "    }\n",
              "  </style>\n",
              "\n",
              "    <script>\n",
              "      const buttonEl =\n",
              "        document.querySelector('#df-59463aaa-2137-44e1-8d94-efa01a7ee0b7 button.colab-df-convert');\n",
              "      buttonEl.style.display =\n",
              "        google.colab.kernel.accessAllowed ? 'block' : 'none';\n",
              "\n",
              "      async function convertToInteractive(key) {\n",
              "        const element = document.querySelector('#df-59463aaa-2137-44e1-8d94-efa01a7ee0b7');\n",
              "        const dataTable =\n",
              "          await google.colab.kernel.invokeFunction('convertToInteractive',\n",
              "                                                    [key], {});\n",
              "        if (!dataTable) return;\n",
              "\n",
              "        const docLinkHtml = 'Like what you see? Visit the ' +\n",
              "          '<a target=\"_blank\" href=https://colab.research.google.com/notebooks/data_table.ipynb>data table notebook</a>'\n",
              "          + ' to learn more about interactive tables.';\n",
              "        element.innerHTML = '';\n",
              "        dataTable['output_type'] = 'display_data';\n",
              "        await google.colab.output.renderOutput(dataTable, element);\n",
              "        const docLink = document.createElement('div');\n",
              "        docLink.innerHTML = docLinkHtml;\n",
              "        element.appendChild(docLink);\n",
              "      }\n",
              "    </script>\n",
              "  </div>\n",
              "\n",
              "\n",
              "<div id=\"df-b59e1d95-6678-4bf9-9ef9-3d9afc0299ae\">\n",
              "  <button class=\"colab-df-quickchart\" onclick=\"quickchart('df-b59e1d95-6678-4bf9-9ef9-3d9afc0299ae')\"\n",
              "            title=\"Suggest charts.\"\n",
              "            style=\"display:none;\">\n",
              "\n",
              "<svg xmlns=\"http://www.w3.org/2000/svg\" height=\"24px\"viewBox=\"0 0 24 24\"\n",
              "     width=\"24px\">\n",
              "    <g>\n",
              "        <path d=\"M19 3H5c-1.1 0-2 .9-2 2v14c0 1.1.9 2 2 2h14c1.1 0 2-.9 2-2V5c0-1.1-.9-2-2-2zM9 17H7v-7h2v7zm4 0h-2V7h2v10zm4 0h-2v-4h2v4z\"/>\n",
              "    </g>\n",
              "</svg>\n",
              "  </button>\n",
              "\n",
              "<style>\n",
              "  .colab-df-quickchart {\n",
              "      --bg-color: #E8F0FE;\n",
              "      --fill-color: #1967D2;\n",
              "      --hover-bg-color: #E2EBFA;\n",
              "      --hover-fill-color: #174EA6;\n",
              "      --disabled-fill-color: #AAA;\n",
              "      --disabled-bg-color: #DDD;\n",
              "  }\n",
              "\n",
              "  [theme=dark] .colab-df-quickchart {\n",
              "      --bg-color: #3B4455;\n",
              "      --fill-color: #D2E3FC;\n",
              "      --hover-bg-color: #434B5C;\n",
              "      --hover-fill-color: #FFFFFF;\n",
              "      --disabled-bg-color: #3B4455;\n",
              "      --disabled-fill-color: #666;\n",
              "  }\n",
              "\n",
              "  .colab-df-quickchart {\n",
              "    background-color: var(--bg-color);\n",
              "    border: none;\n",
              "    border-radius: 50%;\n",
              "    cursor: pointer;\n",
              "    display: none;\n",
              "    fill: var(--fill-color);\n",
              "    height: 32px;\n",
              "    padding: 0;\n",
              "    width: 32px;\n",
              "  }\n",
              "\n",
              "  .colab-df-quickchart:hover {\n",
              "    background-color: var(--hover-bg-color);\n",
              "    box-shadow: 0 1px 2px rgba(60, 64, 67, 0.3), 0 1px 3px 1px rgba(60, 64, 67, 0.15);\n",
              "    fill: var(--button-hover-fill-color);\n",
              "  }\n",
              "\n",
              "  .colab-df-quickchart-complete:disabled,\n",
              "  .colab-df-quickchart-complete:disabled:hover {\n",
              "    background-color: var(--disabled-bg-color);\n",
              "    fill: var(--disabled-fill-color);\n",
              "    box-shadow: none;\n",
              "  }\n",
              "\n",
              "  .colab-df-spinner {\n",
              "    border: 2px solid var(--fill-color);\n",
              "    border-color: transparent;\n",
              "    border-bottom-color: var(--fill-color);\n",
              "    animation:\n",
              "      spin 1s steps(1) infinite;\n",
              "  }\n",
              "\n",
              "  @keyframes spin {\n",
              "    0% {\n",
              "      border-color: transparent;\n",
              "      border-bottom-color: var(--fill-color);\n",
              "      border-left-color: var(--fill-color);\n",
              "    }\n",
              "    20% {\n",
              "      border-color: transparent;\n",
              "      border-left-color: var(--fill-color);\n",
              "      border-top-color: var(--fill-color);\n",
              "    }\n",
              "    30% {\n",
              "      border-color: transparent;\n",
              "      border-left-color: var(--fill-color);\n",
              "      border-top-color: var(--fill-color);\n",
              "      border-right-color: var(--fill-color);\n",
              "    }\n",
              "    40% {\n",
              "      border-color: transparent;\n",
              "      border-right-color: var(--fill-color);\n",
              "      border-top-color: var(--fill-color);\n",
              "    }\n",
              "    60% {\n",
              "      border-color: transparent;\n",
              "      border-right-color: var(--fill-color);\n",
              "    }\n",
              "    80% {\n",
              "      border-color: transparent;\n",
              "      border-right-color: var(--fill-color);\n",
              "      border-bottom-color: var(--fill-color);\n",
              "    }\n",
              "    90% {\n",
              "      border-color: transparent;\n",
              "      border-bottom-color: var(--fill-color);\n",
              "    }\n",
              "  }\n",
              "</style>\n",
              "\n",
              "  <script>\n",
              "    async function quickchart(key) {\n",
              "      const quickchartButtonEl =\n",
              "        document.querySelector('#' + key + ' button');\n",
              "      quickchartButtonEl.disabled = true;  // To prevent multiple clicks.\n",
              "      quickchartButtonEl.classList.add('colab-df-spinner');\n",
              "      try {\n",
              "        const charts = await google.colab.kernel.invokeFunction(\n",
              "            'suggestCharts', [key], {});\n",
              "      } catch (error) {\n",
              "        console.error('Error during call to suggestCharts:', error);\n",
              "      }\n",
              "      quickchartButtonEl.classList.remove('colab-df-spinner');\n",
              "      quickchartButtonEl.classList.add('colab-df-quickchart-complete');\n",
              "    }\n",
              "    (() => {\n",
              "      let quickchartButtonEl =\n",
              "        document.querySelector('#df-b59e1d95-6678-4bf9-9ef9-3d9afc0299ae button');\n",
              "      quickchartButtonEl.style.display =\n",
              "        google.colab.kernel.accessAllowed ? 'block' : 'none';\n",
              "    })();\n",
              "  </script>\n",
              "</div>\n",
              "    </div>\n",
              "  </div>\n"
            ]
          },
          "metadata": {},
          "execution_count": 6
        }
      ]
    },
    {
      "cell_type": "code",
      "source": [
        "import seaborn as sns"
      ],
      "metadata": {
        "id": "VQEwU_1_Bhpb"
      },
      "execution_count": 1,
      "outputs": []
    },
    {
      "cell_type": "code",
      "source": [
        "sns.lmplot(x = 'len_list', y ='time', data = df, order = 2, ci = None );"
      ],
      "metadata": {
        "colab": {
          "base_uri": "https://localhost:8080/",
          "height": 507
        },
        "id": "f_6Cns1iBljp",
        "outputId": "e5eadf55-984c-4be4-d639-6904c0b6222d"
      },
      "execution_count": 10,
      "outputs": [
        {
          "output_type": "display_data",
          "data": {
            "text/plain": [
              "<Figure size 500x500 with 1 Axes>"
            ],
            "image/png": "[encoded data removed]"
          },
          "metadata": {}
        }
      ]
    },
    {
      "cell_type": "markdown",
      "source": [
        "نداشتن اشتراک در سه لیست از اعداد"
      ],
      "metadata": {
        "id": "wZf2wFSNxf15"
      }
    },
    {
      "cell_type": "code",
      "source": [
        "# O(n^3)\n",
        "a = [1,2]\n",
        "b = [3,1]\n",
        "c = [5,7]\n",
        "\n",
        "def eshterak(a, b, c):\n",
        "  for i in a:\n",
        "    for j in b:\n",
        "      for s in c:\n",
        "        if i == j == s:\n",
        "          return False\n",
        "  return True\n",
        "\n",
        "\n",
        "s = time.process_time()\n",
        "print(eshterak(a, b, c))\n",
        "l = time.process_time()\n",
        "print(l-s)\n",
        "\n"
      ],
      "metadata": {
        "id": "GBgdJsyZahc6",
        "colab": {
          "base_uri": "https://localhost:8080/"
        },
        "outputId": "828ea986-fa8f-4797-d1eb-5f18f1bd2dd5"
      },
      "execution_count": 41,
      "outputs": [
        {
          "output_type": "stream",
          "name": "stdout",
          "text": [
            "True\n",
            "0.0016618630000024837\n"
          ]
        }
      ]
    },
    {
      "cell_type": "markdown",
      "source": [
        "روش دوم"
      ],
      "metadata": {
        "id": "14MdwEPU4oUH"
      }
    },
    {
      "cell_type": "code",
      "source": [
        "# O(n^2)\n",
        "a = [1,2]\n",
        "b = [3,44]\n",
        "c = [5,3]\n",
        "\n",
        "def eshterak(a, b, c):\n",
        "  for i in a:\n",
        "    for j in b:\n",
        "      if i == j:\n",
        "        for s in c:\n",
        "          if i == s:\n",
        "            return False\n",
        "  return True\n",
        "\n",
        "\n",
        "s = time.process_time()\n",
        "print(eshterak(a, b, c))\n",
        "l = time.process_time()\n",
        "print(l-s)"
      ],
      "metadata": {
        "colab": {
          "base_uri": "https://localhost:8080/"
        },
        "id": "Vgktxfvx4qeY",
        "outputId": "eff2051b-1116-4342-a44a-5c81c307ceac"
      },
      "execution_count": 40,
      "outputs": [
        {
          "output_type": "stream",
          "name": "stdout",
          "text": [
            "True\n",
            "0.0016813669999962144\n"
          ]
        }
      ]
    },
    {
      "cell_type": "markdown",
      "source": [
        "نوشتن معکوس یک لیست"
      ],
      "metadata": {
        "id": "sgcwAPuy5yHg"
      }
    },
    {
      "cell_type": "code",
      "source": [
        "# O(n)\n",
        "lst = [1,2,8,5,9,0,12]\n",
        "lst1 = []\n",
        "def reverse(lst):\n",
        "  n = len(lst)\n",
        "  for i in range(1,n+1):\n",
        "    lst1.append(lst[n-i])\n",
        "  return lst1\n",
        "\n",
        "\n",
        "s = time.process_time()\n",
        "print(reverse(lst))\n",
        "l = time.process_time()\n",
        "print(l-s)"
      ],
      "metadata": {
        "colab": {
          "base_uri": "https://localhost:8080/"
        },
        "id": "-uT4bBGz6PlO",
        "outputId": "d056fa98-70d4-44b0-aca7-ffe55f83902f"
      },
      "execution_count": 39,
      "outputs": [
        {
          "output_type": "stream",
          "name": "stdout",
          "text": [
            "[12, 0, 9, 5, 8, 2, 1]\n",
            "0.0017395699999980252\n"
          ]
        }
      ]
    },
    {
      "cell_type": "markdown",
      "source": [
        "روش دوم"
      ],
      "metadata": {
        "id": "aGV76KLK_M6x"
      }
    },
    {
      "cell_type": "code",
      "source": [
        "# O(n)تعداد تکرار کمتر از\n",
        "import time\n",
        "lst = [1,2,8,5,9,0,12]\n",
        "lst1 = []\n",
        "def reverse(a):\n",
        "  n = len(a)\n",
        "  i = 0\n",
        "  while i < (n//2):\n",
        "    a[i], a[n-i-1] = a[n-i-1], a[i]\n",
        "    i += 1\n",
        "  return a\n",
        "\n",
        "s = time.process_time()\n",
        "print(reverse(lst))\n",
        "l = time.process_time()\n",
        "print(l-s)"
      ],
      "metadata": {
        "colab": {
          "base_uri": "https://localhost:8080/"
        },
        "id": "W8mF9EOY_Oiw",
        "outputId": "af34959d-64db-4797-ad70-d67b13507514"
      },
      "execution_count": 38,
      "outputs": [
        {
          "output_type": "stream",
          "name": "stdout",
          "text": [
            "[12, 0, 9, 5, 8, 2, 1]\n",
            "0.0012455379999991578\n"
          ]
        }
      ]
    },
    {
      "cell_type": "markdown",
      "source": [
        "add a number to the first of a list"
      ],
      "metadata": {
        "id": "eurnHKq1FXD3"
      }
    },
    {
      "cell_type": "code",
      "source": [
        "lst = [1,3,4,6,8,2,0]\n",
        "lst1 = []\n",
        "def add_first(lst):\n",
        "  a = 45\n",
        "  lst1.append(a)\n",
        "  for i in range(len(lst)):\n",
        "    lst1.append(lst[i])\n",
        "  return lst1\n",
        "add_first(lst)"
      ],
      "metadata": {
        "colab": {
          "base_uri": "https://localhost:8080/"
        },
        "id": "km5Z4St1FW1P",
        "outputId": "0ddb2568-4689-4908-f7ce-09a3a5e52cc8"
      },
      "execution_count": 39,
      "outputs": [
        {
          "output_type": "execute_result",
          "data": {
            "text/plain": [
              "[45, 1, 3, 4, 6, 8, 2, 0]"
            ]
          },
          "metadata": {},
          "execution_count": 39
        }
      ]
    },
    {
      "cell_type": "code",
      "source": [
        "pip install big-O"
      ],
      "metadata": {
        "colab": {
          "base_uri": "https://localhost:8080/"
        },
        "id": "MIFZdYygJshj",
        "outputId": "4f703357-7392-4d9a-95de-1572f65e8339"
      },
      "execution_count": 21,
      "outputs": [
        {
          "output_type": "stream",
          "name": "stdout",
          "text": [
            "Collecting big-O\n",
            "  Downloading big_O-0.11.0.tar.gz (11 kB)\n",
            "  Preparing metadata (setup.py) ... \u001b[?25l\u001b[?25hdone\n",
            "Requirement already satisfied: numpy in /usr/local/lib/python3.10/dist-packages (from big-O) (1.23.5)\n",
            "Building wheels for collected packages: big-O\n",
            "  Building wheel for big-O (setup.py) ... \u001b[?25l\u001b[?25hdone\n",
            "  Created wheel for big-O: filename=big_O-0.11.0-py3-none-any.whl size=14119 sha256=6191a69c6f34d771b083a60fe5b46cf2c0f8eea19660afb74516a46dd86f9383\n",
            "  Stored in directory: /root/.cache/pip/wheels/38/29/38/4df65acf36af6a8fc03e1a4c6f4ab63abf476fccaeeed65182\n",
            "Successfully built big-O\n",
            "Installing collected packages: big-O\n",
            "Successfully installed big-O-0.11.0\n"
          ]
        }
      ]
    },
    {
      "cell_type": "code",
      "source": [
        "import big_o"
      ],
      "metadata": {
        "id": "YWqKabY2J3N6"
      },
      "execution_count": 33,
      "outputs": []
    },
    {
      "cell_type": "code",
      "source": [
        "data = lambda n: big_o.datagen.integers(n, 0, 10)"
      ],
      "metadata": {
        "id": "x5k5KeZ0KA51"
      },
      "execution_count": 34,
      "outputs": []
    },
    {
      "cell_type": "code",
      "source": [
        "best, other = big_o.big_o(add_first, data, n_repeats=100)\n",
        "print(best)   # O(n) --> a + b*n خطی"
      ],
      "metadata": {
        "colab": {
          "base_uri": "https://localhost:8080/"
        },
        "id": "-rJ1F2ubSYu4",
        "outputId": "a2f0ce01-daf8-408e-8cb3-68a9f592d3cb"
      },
      "execution_count": 42,
      "outputs": [
        {
          "output_type": "stream",
          "name": "stdout",
          "text": [
            "Linear: time = 0.0011 + 9.7E-06*n (sec)\n"
          ]
        }
      ]
    },
    {
      "cell_type": "code",
      "source": [
        "def add_end(lst):\n",
        "  a = 45\n",
        "  n = len(lst)\n",
        "  lst1 = []\n",
        "  for i in range(n):\n",
        "    lst1.append(lst[i])\n",
        "  lst1.append(a)\n",
        "  return lst1\n",
        "lst = [12,4,5,7,8,9,1,0]\n",
        "add_end(lst)"
      ],
      "metadata": {
        "colab": {
          "base_uri": "https://localhost:8080/"
        },
        "id": "BJhgQGqUTMh8",
        "outputId": "f25e2bcf-e109-4893-a9f3-8e5c7ac9a7b0"
      },
      "execution_count": 47,
      "outputs": [
        {
          "output_type": "execute_result",
          "data": {
            "text/plain": [
              "[12, 4, 5, 7, 8, 9, 1, 0, 45]"
            ]
          },
          "metadata": {},
          "execution_count": 47
        }
      ]
    },
    {
      "cell_type": "code",
      "source": [
        "best, other = big_o.big_o(add_end, data, n_repeats=100)\n",
        "print(best)   # O(n) --> a + b*n خطی"
      ],
      "metadata": {
        "colab": {
          "base_uri": "https://localhost:8080/"
        },
        "id": "DJJIVP_NU-me",
        "outputId": "197fc994-295e-4228-b002-d5a18b2c5a77"
      },
      "execution_count": 49,
      "outputs": [
        {
          "output_type": "stream",
          "name": "stdout",
          "text": [
            "Linear: time = 0.13 + 7.6E-06*n (sec)\n"
          ]
        }
      ]
    }
  ]
}