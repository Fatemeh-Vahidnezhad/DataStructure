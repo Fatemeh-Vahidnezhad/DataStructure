{
  "nbformat": 4,
  "nbformat_minor": 0,
  "metadata": {
    "colab": {
      "provenance": []
    },
    "kernelspec": {
      "name": "python3",
      "display_name": "Python 3"
    },
    "language_info": {
      "name": "python"
    }
  },
  "cells": [
    {
      "cell_type": "code",
      "source": [
        "pip install pygorithm"
      ],
      "metadata": {
        "colab": {
          "base_uri": "https://localhost:8080/"
        },
        "id": "0vvTLuAeEo2t",
        "outputId": "e447be9d-4845-41cd-924e-ea60a3d05dff"
      },
      "execution_count": null,
      "outputs": [
        {
          "output_type": "stream",
          "name": "stdout",
          "text": [
            "Collecting pygorithm\n",
            "  Downloading pygorithm-1.0.4-py2.py3-none-any.whl (98 kB)\n",
            "\u001b[?25l     \u001b[90m━━━━━━━━━━━━━━━━━━━━━━━━━━━━━━━━━━━━━━━━\u001b[0m \u001b[32m0.0/98.6 kB\u001b[0m \u001b[31m?\u001b[0m eta \u001b[36m-:--:--\u001b[0m\r\u001b[2K     \u001b[91m━━━━━━━━━━━━━━━━━━━━━━━━━━━━━━━━━━━━━\u001b[0m\u001b[90m╺\u001b[0m\u001b[90m━━\u001b[0m \u001b[32m92.2/98.6 kB\u001b[0m \u001b[31m2.8 MB/s\u001b[0m eta \u001b[36m0:00:01\u001b[0m\r\u001b[2K     \u001b[90m━━━━━━━━━━━━━━━━━━━━━━━━━━━━━━━━━━━━━━━━\u001b[0m \u001b[32m98.6/98.6 kB\u001b[0m \u001b[31m2.4 MB/s\u001b[0m eta \u001b[36m0:00:00\u001b[0m\n",
            "\u001b[?25hInstalling collected packages: pygorithm\n",
            "Successfully installed pygorithm-1.0.4\n"
          ]
        }
      ]
    },
    {
      "cell_type": "code",
      "execution_count": null,
      "metadata": {
        "id": "83afZcmW02sE"
      },
      "outputs": [],
      "source": [
        "from pygorithm import data_structures\n",
        "from pygorithm.data_structures.stack import Stack"
      ]
    },
    {
      "cell_type": "code",
      "source": [
        "def f(a, b, x):\n",
        "  if x== '/':\n",
        "    return a/b\n",
        "  elif x== '+':\n",
        "    return a+b\n",
        "  elif x=='*':\n",
        "    return a*b\n",
        "  else:\n",
        "    return a-b\n"
      ],
      "metadata": {
        "id": "8V8JPSSV-UCt"
      },
      "execution_count": null,
      "outputs": []
    },
    {
      "cell_type": "code",
      "source": [
        "lst =[]\n",
        "def func(a):\n",
        "  s=Stack()\n",
        "  lst =a.split(\" \")\n",
        "  print(lst)\n",
        "  for i in lst:\n",
        "    if i.isdigit():\n",
        "      s.push(int(i))\n",
        "    else:\n",
        "      h= s.pop()\n",
        "      g= s.pop()\n",
        "      r = f(g, h,i)\n",
        "      s.push(r)\n",
        "\n",
        "  print(s)\n",
        "func('12 2 / 1 4 * /')\n"
      ],
      "metadata": {
        "id": "bzoXP-6SFLMw",
        "colab": {
          "base_uri": "https://localhost:8080/"
        },
        "outputId": "801e9388-438b-4a6a-cb50-4a840fdf1140"
      },
      "execution_count": null,
      "outputs": [
        {
          "output_type": "stream",
          "name": "stdout",
          "text": [
            "['12', '2', '/', '1', '4', '*', '/']\n",
            "1.5\n"
          ]
        }
      ]
    },
    {
      "cell_type": "code",
      "source": [
        "lst = []\n",
        "def Post_Infix(a):\n",
        "  s=Stack()\n",
        "  lst = a.split(' ')\n",
        "  for t in lst:\n",
        "    if t.isdigit():\n",
        "      s.push(t)\n",
        "    else:\n",
        "      x = s.pop()\n",
        "      y = s.pop()\n",
        "      m = '(' + y + t + x + ')'\n",
        "      s.push(m)\n",
        "\n",
        "\n",
        "  print(s)\n",
        "Post_Infix('1 2 + 5 5 / *')\n"
      ],
      "metadata": {
        "colab": {
          "base_uri": "https://localhost:8080/"
        },
        "id": "EBJi6-cV_v3y",
        "outputId": "8239b0e8-9697-406a-f626-1933c00022b1"
      },
      "execution_count": null,
      "outputs": [
        {
          "output_type": "stream",
          "name": "stdout",
          "text": [
            "((1+2)*(5/5))\n"
          ]
        }
      ]
    },
    {
      "cell_type": "code",
      "source": [
        "1 + 2"
      ],
      "metadata": {
        "id": "2uj-q3_HNs48"
      },
      "execution_count": null,
      "outputs": []
    },
    {
      "cell_type": "code",
      "source": [
        "lst = []\n",
        "def In_post_fix(a):\n",
        "  s = Stack()\n",
        "  lst = a.split(' ')\n",
        "  output = ''\n",
        "  for i in lst:\n",
        "    if i.isdigit():\n",
        "      output += i\n",
        "    else:\n",
        "      s.push(i)\n",
        "    while not s.is_empty():\n",
        "\n",
        "\n",
        "\n"
      ],
      "metadata": {
        "id": "njK3Y695ZrB9"
      },
      "execution_count": null,
      "outputs": []
    }
  ]
}