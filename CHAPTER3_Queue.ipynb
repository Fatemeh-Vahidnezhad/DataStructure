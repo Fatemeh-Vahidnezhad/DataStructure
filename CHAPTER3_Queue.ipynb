{
  "nbformat": 4,
  "nbformat_minor": 0,
  "metadata": {
    "colab": {
      "provenance": []
    },
    "kernelspec": {
      "name": "python3",
      "display_name": "Python 3"
    },
    "language_info": {
      "name": "python"
    }
  },
  "cells": [
    {
      "cell_type": "code",
      "execution_count": null,
      "metadata": {
        "id": "PEaRn-evECJ6"
      },
      "outputs": [],
      "source": [
        "# simple queue\n",
        "class Queue:\n",
        "  def __init__(self, k):\n",
        "    self.k = k\n",
        "    self.rear = -1\n",
        "    self.front = -1\n",
        "    self.queue = [None]*k\n",
        "\n",
        "  def display(self):\n",
        "    if self.rear == self.front == -1:\n",
        "      return 'queue is empty!'\n",
        "    for i in range(self.front, (self.rear+1)):\n",
        "      print(self.queue[i])\n",
        "      return\n",
        "\n",
        "  def enqueue(self, data):  # add to the end of the queue!\n",
        "    if self.rear == self.front == -1:\n",
        "      self.rear = self.front = 0\n",
        "      self.queue[self.rear] = data\n",
        "      return self.queue\n",
        "\n",
        "    elif self.rear + 1 ==self.k:\n",
        "      print('The queue is full!')\n",
        "\n",
        "    else:\n",
        "      self.rear +=1\n",
        "      self.queue[self.rear] = data\n",
        "      return self.queue\n",
        "\n",
        "  def dequeue(self):\n",
        "    if self.rear == self.front == -1:\n",
        "      print('The queue is empty!')\n",
        "\n",
        "    elif self.rear == self.front:\n",
        "      t = self.queue[self.front]\n",
        "      self.front = -1\n",
        "      self.rear = -1\n",
        "      return t, self.queue\n",
        "\n",
        "    else:\n",
        "      t = self.queue[self.front]\n",
        "      self.front += 1\n",
        "      # for i in range(self.front, (self.rear+1)):\n",
        "      #   print(self.queue[i])\n",
        "      return t\n",
        "\n",
        "q = Queue(3)"
      ]
    },
    {
      "cell_type": "code",
      "source": [
        "print(q.display())\n"
      ],
      "metadata": {
        "colab": {
          "base_uri": "https://localhost:8080/"
        },
        "id": "rYSuAfWdjRAD",
        "outputId": "87917d05-48f2-462f-f6f8-fd9a167ce341"
      },
      "execution_count": null,
      "outputs": [
        {
          "output_type": "stream",
          "name": "stdout",
          "text": [
            "queue is empty!\n"
          ]
        }
      ]
    },
    {
      "cell_type": "code",
      "source": [
        "q.enqueue(12)\n",
        "q.enqueue(11)\n",
        "q.enqueue(10)\n",
        "\n"
      ],
      "metadata": {
        "colab": {
          "base_uri": "https://localhost:8080/"
        },
        "id": "hpqZpajRjQ87",
        "outputId": "e051ee5b-b887-4a18-ae43-ae827928adfd"
      },
      "execution_count": null,
      "outputs": [
        {
          "output_type": "execute_result",
          "data": {
            "text/plain": [
              "[12, 11, 10]"
            ]
          },
          "metadata": {},
          "execution_count": 65
        }
      ]
    },
    {
      "cell_type": "code",
      "source": [
        "q.enqueue(0)\n"
      ],
      "metadata": {
        "colab": {
          "base_uri": "https://localhost:8080/"
        },
        "id": "mpiaxeCojyAY",
        "outputId": "d590e2d9-0b95-4d5f-92c3-a523a4fb8517"
      },
      "execution_count": null,
      "outputs": [
        {
          "output_type": "stream",
          "name": "stdout",
          "text": [
            "The queue is full!\n"
          ]
        }
      ]
    },
    {
      "cell_type": "code",
      "source": [
        "print(q.display())\n"
      ],
      "metadata": {
        "colab": {
          "base_uri": "https://localhost:8080/"
        },
        "id": "muEfcnl7jmTR",
        "outputId": "160b27d6-9243-4522-f958-198b044636dd"
      },
      "execution_count": null,
      "outputs": [
        {
          "output_type": "stream",
          "name": "stdout",
          "text": [
            "12\n",
            "None\n"
          ]
        }
      ]
    },
    {
      "cell_type": "code",
      "source": [
        "print(q.dequeue())\n"
      ],
      "metadata": {
        "colab": {
          "base_uri": "https://localhost:8080/"
        },
        "id": "-OtK5svTj1Uh",
        "outputId": "4afc2b60-eda1-460f-c6ad-a97b363426fe"
      },
      "execution_count": null,
      "outputs": [
        {
          "output_type": "stream",
          "name": "stdout",
          "text": [
            "11\n",
            "10\n",
            "12\n"
          ]
        }
      ]
    },
    {
      "cell_type": "code",
      "source": [
        "print(q.display())"
      ],
      "metadata": {
        "colab": {
          "base_uri": "https://localhost:8080/"
        },
        "id": "LV5F7Wtyj5ui",
        "outputId": "d693a42c-cd18-4750-d2f3-89651059cc5c"
      },
      "execution_count": null,
      "outputs": [
        {
          "output_type": "stream",
          "name": "stdout",
          "text": [
            "11\n",
            "None\n"
          ]
        }
      ]
    },
    {
      "cell_type": "code",
      "source": [
        "5%4"
      ],
      "metadata": {
        "colab": {
          "base_uri": "https://localhost:8080/"
        },
        "id": "FFkGMVHqL_8v",
        "outputId": "019b6150-d000-4234-a6c8-5cb89283d118"
      },
      "execution_count": null,
      "outputs": [
        {
          "output_type": "execute_result",
          "data": {
            "text/plain": [
              "1"
            ]
          },
          "metadata": {},
          "execution_count": 13
        }
      ]
    },
    {
      "cell_type": "code",
      "source": [
        "# Circle Queue\n",
        "# simple queue\n",
        "class CQueue:\n",
        "  def __init__(self, k):\n",
        "    self.k = k\n",
        "    self.rear = -1\n",
        "    self.front = -1\n",
        "    self.queue = [None]*k\n",
        "\n",
        "  def display(self):\n",
        "    if self.rear == self.front == -1:\n",
        "      return 'queue is empty!'\n",
        "\n",
        "    if self.front <= self.rear:\n",
        "      for i in range(self.front, (self.rear+1)):\n",
        "        print(self.queue[i], end = ' ')\n",
        "\n",
        "    else:\n",
        "      for i in range(self.front, self.k):\n",
        "        print(self.queue[i])\n",
        "      for i in range(0, (self.rear+1)):\n",
        "        print(self.queue[i], end = ' ')\n",
        "\n",
        "\n",
        "  def enqueue(self, data):  # add to the end of the queue!\n",
        "    if self.rear == self.front == -1:\n",
        "      self.rear = self.front = 0\n",
        "      self.queue[self.rear] = data\n",
        "      return self.queue\n",
        "\n",
        "    elif (self.rear + 1)%self.k ==self.front:\n",
        "      print('The queue is full!')\n",
        "\n",
        "    else:\n",
        "      self.rear =(self.rear + 1)% self.k\n",
        "      self.queue[self.rear] = data\n",
        "      return self.display()\n",
        "\n",
        "  def dequeue(self):\n",
        "    if self.rear == self.front == -1:\n",
        "      print('The queue is empty!')\n",
        "\n",
        "    elif self.rear == self.front:\n",
        "      t = self.queue[self.front]\n",
        "      self.front = -1\n",
        "      self.rear = -1\n",
        "      return t, self.queue\n",
        "\n",
        "    else:\n",
        "      t = self.queue[self.front]\n",
        "      self.front += 1\n",
        "      # for i in range(self.front, (self.rear+1)):\n",
        "      #   print(self.queue[i])\n",
        "      return t"
      ],
      "metadata": {
        "id": "_rFgEoeCKRtW"
      },
      "execution_count": 42,
      "outputs": []
    },
    {
      "cell_type": "code",
      "source": [
        "q = CQueue(5)"
      ],
      "metadata": {
        "id": "bRM_mpJlm-Ho"
      },
      "execution_count": 43,
      "outputs": []
    },
    {
      "cell_type": "code",
      "source": [
        "q.display()"
      ],
      "metadata": {
        "colab": {
          "base_uri": "https://localhost:8080/",
          "height": 36
        },
        "id": "eTpJI7BJnBcX",
        "outputId": "7f6c7983-cb43-4a87-fb98-d7fffd200005"
      },
      "execution_count": 44,
      "outputs": [
        {
          "output_type": "execute_result",
          "data": {
            "text/plain": [
              "'queue is empty!'"
            ],
            "application/vnd.google.colaboratory.intrinsic+json": {
              "type": "string"
            }
          },
          "metadata": {},
          "execution_count": 44
        }
      ]
    },
    {
      "cell_type": "code",
      "source": [
        "q.enqueue(0)"
      ],
      "metadata": {
        "colab": {
          "base_uri": "https://localhost:8080/"
        },
        "id": "34uzW_HXnILo",
        "outputId": "3c27e867-852a-4d20-bacc-dc7062994009"
      },
      "execution_count": 45,
      "outputs": [
        {
          "output_type": "execute_result",
          "data": {
            "text/plain": [
              "[0, None, None, None, None]"
            ]
          },
          "metadata": {},
          "execution_count": 45
        }
      ]
    },
    {
      "cell_type": "code",
      "source": [
        "q.enqueue(4)"
      ],
      "metadata": {
        "colab": {
          "base_uri": "https://localhost:8080/"
        },
        "id": "KFauIUxvnL_O",
        "outputId": "638ef513-4ac6-4af5-975c-ebfd0a5f16d0"
      },
      "execution_count": 46,
      "outputs": [
        {
          "output_type": "stream",
          "name": "stdout",
          "text": [
            "0 4 "
          ]
        }
      ]
    },
    {
      "cell_type": "code",
      "source": [
        "q.enqueue(12)"
      ],
      "metadata": {
        "colab": {
          "base_uri": "https://localhost:8080/"
        },
        "id": "ejO_orYAnPFe",
        "outputId": "654a9921-a84a-4b6a-a024-8a7c02daedf0"
      },
      "execution_count": 47,
      "outputs": [
        {
          "output_type": "stream",
          "name": "stdout",
          "text": [
            "0 4 12 "
          ]
        }
      ]
    },
    {
      "cell_type": "code",
      "source": [
        "q.dequeue()"
      ],
      "metadata": {
        "colab": {
          "base_uri": "https://localhost:8080/"
        },
        "id": "c7PQziwVnTtW",
        "outputId": "11a8c0ed-d129-402f-886c-fa2c063948a3"
      },
      "execution_count": 48,
      "outputs": [
        {
          "output_type": "execute_result",
          "data": {
            "text/plain": [
              "0"
            ]
          },
          "metadata": {},
          "execution_count": 48
        }
      ]
    },
    {
      "cell_type": "code",
      "source": [
        "q.display()"
      ],
      "metadata": {
        "colab": {
          "base_uri": "https://localhost:8080/"
        },
        "id": "pOnOQVFooAaq",
        "outputId": "0e1665cd-b0da-4fb9-948c-8fee764607b6"
      },
      "execution_count": 49,
      "outputs": [
        {
          "output_type": "stream",
          "name": "stdout",
          "text": [
            "4 12 "
          ]
        }
      ]
    },
    {
      "cell_type": "code",
      "source": [
        "q.dequeue()\n",
        "q.display()"
      ],
      "metadata": {
        "colab": {
          "base_uri": "https://localhost:8080/"
        },
        "id": "evHlcXsaoEUu",
        "outputId": "b52ff799-a6f3-46a2-f1f9-9a76a1681cff"
      },
      "execution_count": 50,
      "outputs": [
        {
          "output_type": "stream",
          "name": "stdout",
          "text": [
            "12 "
          ]
        }
      ]
    },
    {
      "cell_type": "code",
      "source": [
        "q.enqueue(1)"
      ],
      "metadata": {
        "colab": {
          "base_uri": "https://localhost:8080/"
        },
        "id": "tsdHItH7oJZp",
        "outputId": "2eea7c6f-c1ef-4eb3-980f-a1364e857ca1"
      },
      "execution_count": 51,
      "outputs": [
        {
          "output_type": "stream",
          "name": "stdout",
          "text": [
            "12 1 "
          ]
        }
      ]
    },
    {
      "cell_type": "code",
      "source": [
        "pip install pygorithm"
      ],
      "metadata": {
        "colab": {
          "base_uri": "https://localhost:8080/"
        },
        "id": "xVQ0E_66YuyY",
        "outputId": "004b29f2-ccde-4488-8db9-fb1a208d317c"
      },
      "execution_count": 1,
      "outputs": [
        {
          "output_type": "stream",
          "name": "stdout",
          "text": [
            "Collecting pygorithm\n",
            "  Downloading pygorithm-1.0.4-py2.py3-none-any.whl (98 kB)\n",
            "\u001b[?25l     \u001b[90m━━━━━━━━━━━━━━━━━━━━━━━━━━━━━━━━━━━━━━━━\u001b[0m \u001b[32m0.0/98.6 kB\u001b[0m \u001b[31m?\u001b[0m eta \u001b[36m-:--:--\u001b[0m\r\u001b[2K     \u001b[91m━━━━━━━━━━━━━━━━━━━━━━━━━━━━━━━━━━━━━\u001b[0m\u001b[90m╺\u001b[0m\u001b[90m━━\u001b[0m \u001b[32m92.2/98.6 kB\u001b[0m \u001b[31m3.1 MB/s\u001b[0m eta \u001b[36m0:00:01\u001b[0m\r\u001b[2K     \u001b[90m━━━━━━━━━━━━━━━━━━━━━━━━━━━━━━━━━━━━━━━━\u001b[0m \u001b[32m98.6/98.6 kB\u001b[0m \u001b[31m2.4 MB/s\u001b[0m eta \u001b[36m0:00:00\u001b[0m\n",
            "\u001b[?25hInstalling collected packages: pygorithm\n",
            "Successfully installed pygorithm-1.0.4\n"
          ]
        }
      ]
    },
    {
      "cell_type": "code",
      "source": [
        "from pygorithm import data_structures"
      ],
      "metadata": {
        "id": "C7UIufGAYygR"
      },
      "execution_count": 2,
      "outputs": []
    },
    {
      "cell_type": "code",
      "source": [
        "help(data_structures)"
      ],
      "metadata": {
        "colab": {
          "base_uri": "https://localhost:8080/"
        },
        "id": "zkBmjoc3Y_l6",
        "outputId": "ca868e39-3100-4ced-87ff-a06abff328e5"
      },
      "execution_count": 3,
      "outputs": [
        {
          "output_type": "stream",
          "name": "stdout",
          "text": [
            "Help on package pygorithm.data_structures in pygorithm:\n",
            "\n",
            "NAME\n",
            "    pygorithm.data_structures - Collection of data structure examples\n",
            "\n",
            "PACKAGE CONTENTS\n",
            "    graph\n",
            "    heap\n",
            "    linked_list\n",
            "    quadtree\n",
            "    queue\n",
            "    stack\n",
            "    tree\n",
            "    trie\n",
            "\n",
            "DATA\n",
            "    __all__ = ['graph', 'heap', 'linked_list', 'queue', 'stack', 'tree', '...\n",
            "\n",
            "FILE\n",
            "    /usr/local/lib/python3.10/dist-packages/pygorithm/data_structures/__init__.py\n",
            "\n",
            "\n"
          ]
        }
      ]
    },
    {
      "cell_type": "code",
      "source": [
        "from pygorithm import sorting"
      ],
      "metadata": {
        "id": "EVjwXMbsZVv5"
      },
      "execution_count": 4,
      "outputs": []
    },
    {
      "cell_type": "code",
      "source": [
        "help(sorting)"
      ],
      "metadata": {
        "colab": {
          "base_uri": "https://localhost:8080/"
        },
        "id": "R4-QgmigZbc_",
        "outputId": "bfac8140-fa5b-40e9-9d76-3eedc828b629"
      },
      "execution_count": 5,
      "outputs": [
        {
          "output_type": "stream",
          "name": "stdout",
          "text": [
            "Help on package pygorithm.sorting in pygorithm:\n",
            "\n",
            "NAME\n",
            "    pygorithm.sorting - Collection of sorting methods\n",
            "\n",
            "PACKAGE CONTENTS\n",
            "    bubble_sort\n",
            "    bucket_sort\n",
            "    counting_sort\n",
            "    heap_sort\n",
            "    insertion_sort\n",
            "    merge_sort\n",
            "    quick_sort\n",
            "    selection_sort\n",
            "    shell_sort\n",
            "\n",
            "DATA\n",
            "    __all__ = ['bubble_sort', 'bucket_sort', 'counting_sort', 'heap_sort',...\n",
            "\n",
            "FILE\n",
            "    /usr/local/lib/python3.10/dist-packages/pygorithm/sorting/__init__.py\n",
            "\n",
            "\n"
          ]
        }
      ]
    },
    {
      "cell_type": "code",
      "source": [
        "from pygorithm.data_structures.queue import Queue\n",
        "q = Queue()\n",
        "print(q.get_code())"
      ],
      "metadata": {
        "colab": {
          "base_uri": "https://localhost:8080/"
        },
        "id": "e2WVZPbjZ4GS",
        "outputId": "4fc10bbb-9dd7-4cb7-c651-7e5a8d86a507"
      },
      "execution_count": 6,
      "outputs": [
        {
          "output_type": "stream",
          "name": "stdout",
          "text": [
            "class Queue(object):\n",
            "    \"\"\"Queue\n",
            "    Queue implementation\n",
            "    \"\"\"\n",
            "    def __init__(self, limit=10):\n",
            "        \"\"\"\n",
            "        :param limit: Queue limit size, default @ 10\n",
            "        \"\"\"\n",
            "        self.queue = []\n",
            "        self.front = None\n",
            "        self.rear = None\n",
            "        self.limit = limit\n",
            "        self.size = 0\n",
            "\n",
            "    def __str__(self):\n",
            "        return ' '.join([str(i) for i in self.queue])\n",
            "\n",
            "    def size(self):\n",
            "        \"\"\"\n",
            "        returns the current size of the queue\n",
            "        \"\"\"\n",
            "        return self.size\n",
            "\n",
            "    def is_empty(self):\n",
            "        \"\"\"\n",
            "        checks if the queue is empty\n",
            "        \"\"\"\n",
            "        return self.size <= 0\n",
            "\n",
            "    def enqueue(self, data):\n",
            "        \"\"\"\n",
            "        inserts an item into the queue\n",
            "        \"\"\"\n",
            "        if self.size >= self.limit:\n",
            "            # queue overflow\n",
            "            return -1\n",
            "        else:\n",
            "            self.queue.append(data)\n",
            "\n",
            "        # assign the rear as size of the queue and front as 0\n",
            "        if self.front is None:\n",
            "            self.front = self.rear = 0\n",
            "        else:\n",
            "            self.rear = self.size\n",
            "\n",
            "        self.size += 1\n",
            "\n",
            "    def dequeue(self):\n",
            "        \"\"\"\n",
            "        pops an item from the queue which was first inserted\n",
            "        \"\"\"\n",
            "        if self.is_empty():\n",
            "            # queue underflow\n",
            "            return -1\n",
            "        else:\n",
            "            self.size -= 1\n",
            "            if self.size == 0:\n",
            "                self.front = self.rear = 0\n",
            "            else:\n",
            "                self.rear = self.size - 1\n",
            "            return self.queue.pop(0)\n",
            "\n",
            "    def get_code(self):\n",
            "        \"\"\"\n",
            "        Return source code for Queue class\n",
            "        :return:\n",
            "        \"\"\"\n",
            "        return inspect.getsource(Queue)\n",
            "\n"
          ]
        }
      ]
    },
    {
      "cell_type": "code",
      "source": [
        "q = Queue()\n",
        "q.enqueue('a')\n",
        "q.enqueue('b')\n",
        "q.enqueue('c')\n",
        "q.enqueue('d')"
      ],
      "metadata": {
        "id": "eSuDQEZUatF3"
      },
      "execution_count": 7,
      "outputs": []
    },
    {
      "cell_type": "code",
      "source": [
        "print(q)"
      ],
      "metadata": {
        "colab": {
          "base_uri": "https://localhost:8080/"
        },
        "id": "TsbeRuXxdAsW",
        "outputId": "49eafccf-72db-4146-eaff-62f24e9a5e08"
      },
      "execution_count": 9,
      "outputs": [
        {
          "output_type": "stream",
          "name": "stdout",
          "text": [
            "a b c d\n"
          ]
        }
      ]
    },
    {
      "cell_type": "code",
      "source": [
        "q.dequeue()"
      ],
      "metadata": {
        "colab": {
          "base_uri": "https://localhost:8080/",
          "height": 36
        },
        "id": "nOSsGe9fdGjg",
        "outputId": "9f32a8a2-125e-498a-e15a-ca0ec0695333"
      },
      "execution_count": 10,
      "outputs": [
        {
          "output_type": "execute_result",
          "data": {
            "text/plain": [
              "'a'"
            ],
            "application/vnd.google.colaboratory.intrinsic+json": {
              "type": "string"
            }
          },
          "metadata": {},
          "execution_count": 10
        }
      ]
    },
    {
      "cell_type": "code",
      "source": [
        "print(q)"
      ],
      "metadata": {
        "colab": {
          "base_uri": "https://localhost:8080/"
        },
        "id": "ZZWNnGNLdLKY",
        "outputId": "d5c7aefb-5119-4a88-a9aa-3939b959f05e"
      },
      "execution_count": 11,
      "outputs": [
        {
          "output_type": "stream",
          "name": "stdout",
          "text": [
            "b c d\n"
          ]
        }
      ]
    }
  ]
}