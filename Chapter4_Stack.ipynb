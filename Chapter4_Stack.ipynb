{
  "nbformat": 4,
  "nbformat_minor": 0,
  "metadata": {
    "colab": {
      "provenance": []
    },
    "kernelspec": {
      "name": "python3",
      "display_name": "Python 3"
    },
    "language_info": {
      "name": "python"
    }
  },
  "cells": [
    {
      "cell_type": "code",
      "execution_count": null,
      "metadata": {
        "id": "sgIB-uG1aP1L"
      },
      "outputs": [],
      "source": [
        "class Stack:\n",
        "  def __init__(self, limit = 10):\n",
        "    self.limit = limit\n",
        "    self.stack = []\n",
        "    self.size = 0\n",
        "\n",
        "\n",
        "  def push(self, data):\n",
        "    if len(self.stack) <= self.limit:\n",
        "      self.stack.append(data)\n",
        "      return self.stack\n",
        "    else:\n",
        "      print('stack is full!')\n",
        "\n",
        "\n",
        "  def pull(self):\n",
        "    if len(self.stack) > 0 :\n",
        "      return self.stack.pop()\n",
        "      #  self.stack\n",
        "    else:\n",
        "      return -1\n",
        "\n",
        "\n",
        "  def __str__(self) -> str:\n",
        "    return ' '.join([str(i) for i in self.stack])\n",
        "\n",
        "\n",
        "  def __len__(self):\n",
        "    return len(self.stack)\n",
        "\n",
        "\n",
        "  def is_empty(self):\n",
        "    if len(self.stack) == 0:\n",
        "      return True\n",
        "\n",
        "\n",
        "  def peak(self):\n",
        "    return self.stack.pop()\n",
        "\n",
        "\n",
        "s = Stack()"
      ]
    },
    {
      "cell_type": "code",
      "source": [
        "s.push(12)"
      ],
      "metadata": {
        "colab": {
          "base_uri": "https://localhost:8080/"
        },
        "id": "tGGR3BYKdRPw",
        "outputId": "62709ef8-36c2-40e8-9b14-513dc3524075"
      },
      "execution_count": null,
      "outputs": [
        {
          "output_type": "execute_result",
          "data": {
            "text/plain": [
              "[12]"
            ]
          },
          "metadata": {},
          "execution_count": 87
        }
      ]
    },
    {
      "cell_type": "code",
      "source": [
        "s.push(1)"
      ],
      "metadata": {
        "colab": {
          "base_uri": "https://localhost:8080/"
        },
        "id": "VrND4_yJdRLA",
        "outputId": "f2ad9091-77e2-4689-b4d4-0242345ef453"
      },
      "execution_count": null,
      "outputs": [
        {
          "output_type": "execute_result",
          "data": {
            "text/plain": [
              "[12, 1]"
            ]
          },
          "metadata": {},
          "execution_count": 88
        }
      ]
    },
    {
      "cell_type": "code",
      "source": [
        "s.push(0)"
      ],
      "metadata": {
        "colab": {
          "base_uri": "https://localhost:8080/"
        },
        "id": "5yWDxvBzdRJg",
        "outputId": "e4e0e4fb-951b-49aa-e3ac-5b76aa628a16"
      },
      "execution_count": null,
      "outputs": [
        {
          "output_type": "execute_result",
          "data": {
            "text/plain": [
              "[12, 1, 0]"
            ]
          },
          "metadata": {},
          "execution_count": 89
        }
      ]
    },
    {
      "cell_type": "code",
      "source": [
        "s.peak()"
      ],
      "metadata": {
        "id": "d7DG34miCnVP",
        "outputId": "2672c19f-08a1-4d34-cae2-658df95a1477",
        "colab": {
          "base_uri": "https://localhost:8080/"
        }
      },
      "execution_count": null,
      "outputs": [
        {
          "output_type": "execute_result",
          "data": {
            "text/plain": [
              "0"
            ]
          },
          "metadata": {},
          "execution_count": 90
        }
      ]
    },
    {
      "cell_type": "code",
      "source": [
        "s.pull()"
      ],
      "metadata": {
        "colab": {
          "base_uri": "https://localhost:8080/"
        },
        "id": "ZAgOE0I3dRFv",
        "outputId": "69c10645-f3e2-4498-aef9-3a8341743776"
      },
      "execution_count": null,
      "outputs": [
        {
          "output_type": "execute_result",
          "data": {
            "text/plain": [
              "1"
            ]
          },
          "metadata": {},
          "execution_count": 91
        }
      ]
    },
    {
      "cell_type": "code",
      "source": [
        "print(s)"
      ],
      "metadata": {
        "colab": {
          "base_uri": "https://localhost:8080/"
        },
        "id": "i8KkcEM4gZVC",
        "outputId": "9c48a048-64bc-42f8-afb7-332dc6fad21a"
      },
      "execution_count": null,
      "outputs": [
        {
          "output_type": "stream",
          "name": "stdout",
          "text": [
            "12\n"
          ]
        }
      ]
    },
    {
      "cell_type": "code",
      "source": [
        "def Decimal_Binary(n):\n",
        "  s = Stack()\n",
        "  while n >0:\n",
        "    r = n % 2\n",
        "    n //= 2\n",
        "    s.push(r)\n",
        "  return ''.join([str(s.pull()) for i in range(len(s))])"
      ],
      "metadata": {
        "id": "tpiqbz1seXfi"
      },
      "execution_count": null,
      "outputs": []
    },
    {
      "cell_type": "code",
      "source": [
        "Decimal_Binary(12)"
      ],
      "metadata": {
        "colab": {
          "base_uri": "https://localhost:8080/",
          "height": 35
        },
        "id": "cPAggCjugCdx",
        "outputId": "196c962e-003d-40e1-f847-6892074f2f39"
      },
      "execution_count": null,
      "outputs": [
        {
          "output_type": "execute_result",
          "data": {
            "text/plain": [
              "'1100'"
            ],
            "application/vnd.google.colaboratory.intrinsic+json": {
              "type": "string"
            }
          },
          "metadata": {},
          "execution_count": 61
        }
      ]
    },
    {
      "cell_type": "code",
      "source": [
        "def reverse(lst):\n",
        "  s = Stack()\n",
        "  for i in lst:\n",
        "    s.push(i)\n",
        "\n",
        "  for i in range(len(s)):\n",
        "    lst[i] = s.pull()\n",
        "  print(lst)\n",
        "\n",
        "reverse([1,3,4,5,78])"
      ],
      "metadata": {
        "colab": {
          "base_uri": "https://localhost:8080/"
        },
        "id": "gHO1-QdongCl",
        "outputId": "b980b2e7-d996-480f-f07e-6dd84d5e7f79"
      },
      "execution_count": null,
      "outputs": [
        {
          "output_type": "stream",
          "name": "stdout",
          "text": [
            "[78, 5, 4, 3, 1]\n"
          ]
        }
      ]
    },
    {
      "cell_type": "code",
      "source": [
        "def reverse_stack(s):\n",
        "  s1 = Stack()\n",
        "  s2 = Stack()\n",
        "  while not s.is_empty():\n",
        "    s1.push(s.pull())\n",
        "\n",
        "  while not s1.is_empty():\n",
        "    s2.push(s1.pull())\n",
        "\n",
        "  while not s2.is_empty():\n",
        "    s.push(s2.pull())\n",
        "  print(s)\n"
      ],
      "metadata": {
        "id": "3tvyZAurrBAv"
      },
      "execution_count": null,
      "outputs": []
    },
    {
      "cell_type": "code",
      "source": [
        "s = Stack()\n",
        "s.push(12)\n",
        "s.push(11)\n",
        "s.push(10)\n",
        "print(s)\n",
        "reverse_stack(s)"
      ],
      "metadata": {
        "colab": {
          "base_uri": "https://localhost:8080/"
        },
        "id": "XtJZ_7uT4VK7",
        "outputId": "e62eeaff-42e5-4527-8fe4-2191b7a00c13"
      },
      "execution_count": null,
      "outputs": [
        {
          "output_type": "stream",
          "name": "stdout",
          "text": [
            "12 11 10\n",
            "10 11 12\n"
          ]
        }
      ]
    },
    {
      "cell_type": "code",
      "source": [
        "pip install pygorithm"
      ],
      "metadata": {
        "colab": {
          "base_uri": "https://localhost:8080/"
        },
        "id": "8PNw-M_o7jZa",
        "outputId": "8e0dc3d0-8a1f-4ebb-f342-138526900920"
      },
      "execution_count": null,
      "outputs": [
        {
          "output_type": "stream",
          "name": "stdout",
          "text": [
            "Collecting pygorithm\n",
            "  Downloading pygorithm-1.0.4-py2.py3-none-any.whl (98 kB)\n",
            "\u001b[?25l     \u001b[90m━━━━━━━━━━━━━━━━━━━━━━━━━━━━━━━━━━━━━━━━\u001b[0m \u001b[32m0.0/98.6 kB\u001b[0m \u001b[31m?\u001b[0m eta \u001b[36m-:--:--\u001b[0m\r\u001b[2K     \u001b[91m━━━━━━━━━━━━━━━━━━━━━━━━━━━━━━━━━━━━━\u001b[0m\u001b[90m╺\u001b[0m\u001b[90m━━\u001b[0m \u001b[32m92.2/98.6 kB\u001b[0m \u001b[31m3.0 MB/s\u001b[0m eta \u001b[36m0:00:01\u001b[0m\r\u001b[2K     \u001b[90m━━━━━━━━━━━━━━━━━━━━━━━━━━━━━━━━━━━━━━━━\u001b[0m \u001b[32m98.6/98.6 kB\u001b[0m \u001b[31m2.6 MB/s\u001b[0m eta \u001b[36m0:00:00\u001b[0m\n",
            "\u001b[?25hInstalling collected packages: pygorithm\n",
            "Successfully installed pygorithm-1.0.4\n"
          ]
        }
      ]
    },
    {
      "cell_type": "code",
      "source": [
        "from pygorithm.data_structures.stack import Stack"
      ],
      "metadata": {
        "id": "Hy-RjgAR7HDe"
      },
      "execution_count": null,
      "outputs": []
    },
    {
      "cell_type": "code",
      "source": [
        "s = Stack()"
      ],
      "metadata": {
        "id": "XLcS3pHU7oL_"
      },
      "execution_count": null,
      "outputs": []
    },
    {
      "cell_type": "code",
      "source": [
        "help(Stack)"
      ],
      "metadata": {
        "colab": {
          "base_uri": "https://localhost:8080/"
        },
        "id": "WCsH6RMh-ZEP",
        "outputId": "993179c5-1e31-4066-dbd1-71d0caaa8ac6"
      },
      "execution_count": null,
      "outputs": [
        {
          "output_type": "stream",
          "name": "stdout",
          "text": [
            "Help on class Stack in module pygorithm.data_structures.stack:\n",
            "\n",
            "class Stack(builtins.object)\n",
            " |  Stack(limit=10)\n",
            " |  \n",
            " |  Stack object\n",
            " |  \n",
            " |  Methods defined here:\n",
            " |  \n",
            " |  __init__(self, limit=10)\n",
            " |      :param limit: the stack size\n",
            " |  \n",
            " |  __str__(self)\n",
            " |      Return str(self).\n",
            " |  \n",
            " |  is_empty(self)\n",
            " |      checks if the stack is empty\n",
            " |      returns boolean value, True or False\n",
            " |  \n",
            " |  peek(self)\n",
            " |      returns the topmost element of the stack\n",
            " |      returns -1 if the stack is empty\n",
            " |  \n",
            " |  pop(self)\n",
            " |      pops the topmost item from the stack\n",
            " |      returns -1 if the stack is empty\n",
            " |  \n",
            " |  push(self, data)\n",
            " |      pushes an item into the stack\n",
            " |      returns -1 if the stack is empty\n",
            " |  \n",
            " |  size(self)\n",
            " |      returns the current size of the stack\n",
            " |  \n",
            " |  ----------------------------------------------------------------------\n",
            " |  Static methods defined here:\n",
            " |  \n",
            " |  get_code()\n",
            " |      returns the code for current class\n",
            " |  \n",
            " |  ----------------------------------------------------------------------\n",
            " |  Data descriptors defined here:\n",
            " |  \n",
            " |  __dict__\n",
            " |      dictionary for instance variables (if defined)\n",
            " |  \n",
            " |  __weakref__\n",
            " |      list of weak references to the object (if defined)\n",
            "\n"
          ]
        }
      ]
    },
    {
      "cell_type": "code",
      "source": [
        "print(s.get_code())"
      ],
      "metadata": {
        "colab": {
          "base_uri": "https://localhost:8080/"
        },
        "id": "H5lsTkwy-kLX",
        "outputId": "da65fa5b-78ad-477a-e2dd-469e752c6f18"
      },
      "execution_count": null,
      "outputs": [
        {
          "output_type": "stream",
          "name": "stdout",
          "text": [
            "class Stack(object):\n",
            "    \"\"\"\n",
            "    Stack object\n",
            "    \"\"\"\n",
            "    def __init__(self, limit=10):\n",
            "        \"\"\"\n",
            "        :param limit: the stack size\n",
            "        \"\"\"\n",
            "        self.stack = []\n",
            "        self.limit = limit\n",
            "\n",
            "    def __str__(self):\n",
            "        return ' '.join([str(i) for i in self.stack])\n",
            "\n",
            "    def push(self, data):\n",
            "        \"\"\"\n",
            "        pushes an item into the stack\n",
            "        returns -1 if the stack is empty\n",
            "        \"\"\"\n",
            "        if len(self.stack) >= self.limit:\n",
            "            # indicates stack overflow\n",
            "            return -1       \n",
            "        else:\n",
            "            self.stack.append(data)\n",
            "\n",
            "    def pop(self):\n",
            "        \"\"\"\n",
            "        pops the topmost item from the stack\n",
            "        returns -1 if the stack is empty\n",
            "        \"\"\"\n",
            "        if len(self.stack) <= 0:\n",
            "            # indicates stack underflow\n",
            "            return -1       \n",
            "        else:\n",
            "            return self.stack.pop()\n",
            "\n",
            "    def peek(self):\n",
            "        \"\"\"\n",
            "        returns the topmost element of the stack\n",
            "        returns -1 if the stack is empty\n",
            "        \"\"\"\n",
            "        if len(self.stack) <= 0:\n",
            "            # stack underflow\n",
            "            return -1       \n",
            "        else:\n",
            "            return self.stack[len(self.stack) - 1]\n",
            "\n",
            "    def is_empty(self):\n",
            "        \"\"\"\n",
            "        checks if the stack is empty\n",
            "        returns boolean value, True or False\n",
            "        \"\"\"\n",
            "        return self.size() == 0\n",
            "\n",
            "    def size(self):\n",
            "        \"\"\"\n",
            "        returns the current size of the stack\n",
            "        \"\"\"\n",
            "        return len(self.stack)\n",
            "\n",
            "    @staticmethod\n",
            "    def get_code():\n",
            "        \"\"\"\n",
            "        returns the code for current class\n",
            "        \"\"\"\n",
            "        return inspect.getsource(Stack)\n",
            "\n"
          ]
        }
      ]
    },
    {
      "cell_type": "code",
      "source": [
        "s.push('A')\n",
        "s.push('B')"
      ],
      "metadata": {
        "id": "KJz7tNpGBZ2p"
      },
      "execution_count": null,
      "outputs": []
    },
    {
      "cell_type": "code",
      "source": [
        "print(s.__dict__)"
      ],
      "metadata": {
        "colab": {
          "base_uri": "https://localhost:8080/"
        },
        "id": "VAc6LOlrBVD9",
        "outputId": "c86cd171-2aa0-436b-d5be-52f30fd20fe8"
      },
      "execution_count": null,
      "outputs": [
        {
          "output_type": "stream",
          "name": "stdout",
          "text": [
            "{'stack': ['A', 'B'], 'limit': 10}\n"
          ]
        }
      ]
    },
    {
      "cell_type": "code",
      "source": [
        "def reverse_file(f1, f2):\n",
        "  s = Stack()\n",
        "  fh1 = open(f1, 'r')\n",
        "  for i in fh1:\n",
        "    i = i.rstrip('\\n')\n",
        "    s.push(i)\n",
        "  fh1.close()\n",
        "\n",
        "  fh2 = open(f2, 'w')\n",
        "  while not s.is_empty():\n",
        "    y = s.pop()\n",
        "    fh2.write(y + '\\n')\n",
        "  fh2.close()\n",
        "\n",
        "reverse_file('a.txt', 'b.txt')"
      ],
      "metadata": {
        "id": "rPs5nHBtBfJq"
      },
      "execution_count": null,
      "outputs": []
    }
  ]
}